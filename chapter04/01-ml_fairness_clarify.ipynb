{
 "cells": [
  {
   "cell_type": "code",
   "execution_count": 1,
   "metadata": {},
   "outputs": [
    {
     "name": "stdout",
     "output_type": "stream",
     "text": [
      "/opt/conda/lib/python3.7/site-packages/secretstorage/dhcrypto.py:16: CryptographyDeprecationWarning: int_from_bytes is deprecated, use int.from_bytes instead\n",
      "  from cryptography.utils import int_from_bytes\n",
      "/opt/conda/lib/python3.7/site-packages/secretstorage/util.py:25: CryptographyDeprecationWarning: int_from_bytes is deprecated, use int.from_bytes instead\n",
      "  from cryptography.utils import int_from_bytes\n",
      "\u001b[33mWARNING: Running pip as the 'root' user can result in broken permissions and conflicting behaviour with the system package manager. It is recommended to use a virtual environment instead: https://pip.pypa.io/warnings/venv\u001b[0m\n",
      "\u001b[33mWARNING: You are using pip version 21.3.1; however, version 22.0.2 is available.\n",
      "You should consider upgrading via the '/opt/conda/bin/python -m pip install --upgrade pip' command.\u001b[0m\n"
     ]
    }
   ],
   "source": [
    "!pip install -q sagemaker-experiments"
   ]
  },
  {
   "cell_type": "code",
   "execution_count": 2,
   "metadata": {},
   "outputs": [],
   "source": [
    "import sagemaker\n",
    "import boto3\n",
    "\n",
    "role = sagemaker.get_execution_role()\n",
    "sess = sagemaker.Session()\n",
    "region = sess.boto_region_name\n",
    "bucket = sess.default_bucket()\n",
    "prefix = 'sagemaker-studio-book/chapter4'"
   ]
  },
  {
   "cell_type": "code",
   "execution_count": 126,
   "metadata": {},
   "outputs": [],
   "source": [
    "from datetime import datetime, timedelta, timezone\n",
    "import json, os, re, uuid\n",
    "from time import sleep, gmtime, strftime\n",
    "\n",
    "import pandas as pd\n",
    "import numpy as np\n",
    "import matplotlib.pyplot as plt\n",
    "plt.style.use('fivethirtyeight')\n",
    "\n",
    "from smexperiments.experiment import Experiment\n",
    "from smexperiments.trial import Trial\n",
    "from botocore.exceptions import ClientError\n",
    "\n",
    "from sagemaker import image_uris\n",
    "from sagemaker.s3 import S3Uploader, S3Downloader\n",
    "from sagemaker.inputs import TrainingInput\n",
    "\n",
    "from sagemaker import clarify"
   ]
  },
  {
   "cell_type": "code",
   "execution_count": 4,
   "metadata": {},
   "outputs": [],
   "source": [
    "orig_columns=['age', 'workclass', 'fnlwgt', 'education', 'education-num', 'marital-status', \n",
    "              'occupation', 'relationship', 'race', 'sex', 'capital-gain', 'capital-loss', \n",
    "              'hours-per-week', 'native-country', 'target']\n",
    "\n",
    "df=pd.read_csv('https://archive.ics.uci.edu/ml/machine-learning-databases/adult/adult.data', \n",
    "               names=orig_columns, sep=r'\\s*,\\s*', na_values='?', engine='python')\n",
    "df_valtest=pd.read_csv('https://archive.ics.uci.edu/ml/machine-learning-databases/adult/adult.test', \n",
    "               names=orig_columns, skiprows=1, sep=r'\\s*,\\s*', na_values='?', engine='python')\n",
    "\n",
    "df.drop(columns='education', inplace=True)\n",
    "df_valtest.drop(columns='education', inplace=True)\n",
    "df_valtest['target'] = df_valtest['target'].replace(to_replace=['<=50K.', '>50K.'], \n",
    "                                                    value=['<=50K', '>50K'])\n",
    "\n",
    "# move the target column to first for XGBoost\n",
    "new_columns=df.columns.tolist()\n",
    "new_columns=[new_columns[-1]]+new_columns[:-1]\n",
    "df=df[new_columns]\n",
    "df_valtest=df_valtest[new_columns]"
   ]
  },
  {
   "cell_type": "code",
   "execution_count": 5,
   "metadata": {},
   "outputs": [
    {
     "data": {
      "text/html": [
       "<div>\n",
       "<style scoped>\n",
       "    .dataframe tbody tr th:only-of-type {\n",
       "        vertical-align: middle;\n",
       "    }\n",
       "\n",
       "    .dataframe tbody tr th {\n",
       "        vertical-align: top;\n",
       "    }\n",
       "\n",
       "    .dataframe thead th {\n",
       "        text-align: right;\n",
       "    }\n",
       "</style>\n",
       "<table border=\"1\" class=\"dataframe\">\n",
       "  <thead>\n",
       "    <tr style=\"text-align: right;\">\n",
       "      <th></th>\n",
       "      <th>target</th>\n",
       "      <th>age</th>\n",
       "      <th>workclass</th>\n",
       "      <th>fnlwgt</th>\n",
       "      <th>education-num</th>\n",
       "      <th>marital-status</th>\n",
       "      <th>occupation</th>\n",
       "      <th>relationship</th>\n",
       "      <th>race</th>\n",
       "      <th>sex</th>\n",
       "      <th>capital-gain</th>\n",
       "      <th>capital-loss</th>\n",
       "      <th>hours-per-week</th>\n",
       "      <th>native-country</th>\n",
       "    </tr>\n",
       "  </thead>\n",
       "  <tbody>\n",
       "    <tr>\n",
       "      <th>0</th>\n",
       "      <td>&lt;=50K</td>\n",
       "      <td>39</td>\n",
       "      <td>State-gov</td>\n",
       "      <td>77516</td>\n",
       "      <td>13</td>\n",
       "      <td>Never-married</td>\n",
       "      <td>Adm-clerical</td>\n",
       "      <td>Not-in-family</td>\n",
       "      <td>White</td>\n",
       "      <td>Male</td>\n",
       "      <td>2174</td>\n",
       "      <td>0</td>\n",
       "      <td>40</td>\n",
       "      <td>United-States</td>\n",
       "    </tr>\n",
       "    <tr>\n",
       "      <th>1</th>\n",
       "      <td>&lt;=50K</td>\n",
       "      <td>50</td>\n",
       "      <td>Self-emp-not-inc</td>\n",
       "      <td>83311</td>\n",
       "      <td>13</td>\n",
       "      <td>Married-civ-spouse</td>\n",
       "      <td>Exec-managerial</td>\n",
       "      <td>Husband</td>\n",
       "      <td>White</td>\n",
       "      <td>Male</td>\n",
       "      <td>0</td>\n",
       "      <td>0</td>\n",
       "      <td>13</td>\n",
       "      <td>United-States</td>\n",
       "    </tr>\n",
       "    <tr>\n",
       "      <th>2</th>\n",
       "      <td>&lt;=50K</td>\n",
       "      <td>38</td>\n",
       "      <td>Private</td>\n",
       "      <td>215646</td>\n",
       "      <td>9</td>\n",
       "      <td>Divorced</td>\n",
       "      <td>Handlers-cleaners</td>\n",
       "      <td>Not-in-family</td>\n",
       "      <td>White</td>\n",
       "      <td>Male</td>\n",
       "      <td>0</td>\n",
       "      <td>0</td>\n",
       "      <td>40</td>\n",
       "      <td>United-States</td>\n",
       "    </tr>\n",
       "    <tr>\n",
       "      <th>3</th>\n",
       "      <td>&lt;=50K</td>\n",
       "      <td>53</td>\n",
       "      <td>Private</td>\n",
       "      <td>234721</td>\n",
       "      <td>7</td>\n",
       "      <td>Married-civ-spouse</td>\n",
       "      <td>Handlers-cleaners</td>\n",
       "      <td>Husband</td>\n",
       "      <td>Black</td>\n",
       "      <td>Male</td>\n",
       "      <td>0</td>\n",
       "      <td>0</td>\n",
       "      <td>40</td>\n",
       "      <td>United-States</td>\n",
       "    </tr>\n",
       "    <tr>\n",
       "      <th>4</th>\n",
       "      <td>&lt;=50K</td>\n",
       "      <td>28</td>\n",
       "      <td>Private</td>\n",
       "      <td>338409</td>\n",
       "      <td>13</td>\n",
       "      <td>Married-civ-spouse</td>\n",
       "      <td>Prof-specialty</td>\n",
       "      <td>Wife</td>\n",
       "      <td>Black</td>\n",
       "      <td>Female</td>\n",
       "      <td>0</td>\n",
       "      <td>0</td>\n",
       "      <td>40</td>\n",
       "      <td>Cuba</td>\n",
       "    </tr>\n",
       "  </tbody>\n",
       "</table>\n",
       "</div>"
      ],
      "text/plain": [
       "  target  age         workclass  fnlwgt  education-num      marital-status  \\\n",
       "0  <=50K   39         State-gov   77516             13       Never-married   \n",
       "1  <=50K   50  Self-emp-not-inc   83311             13  Married-civ-spouse   \n",
       "2  <=50K   38           Private  215646              9            Divorced   \n",
       "3  <=50K   53           Private  234721              7  Married-civ-spouse   \n",
       "4  <=50K   28           Private  338409             13  Married-civ-spouse   \n",
       "\n",
       "          occupation   relationship   race     sex  capital-gain  \\\n",
       "0       Adm-clerical  Not-in-family  White    Male          2174   \n",
       "1    Exec-managerial        Husband  White    Male             0   \n",
       "2  Handlers-cleaners  Not-in-family  White    Male             0   \n",
       "3  Handlers-cleaners        Husband  Black    Male             0   \n",
       "4     Prof-specialty           Wife  Black  Female             0   \n",
       "\n",
       "   capital-loss  hours-per-week native-country  \n",
       "0             0              40  United-States  \n",
       "1             0              13  United-States  \n",
       "2             0              40  United-States  \n",
       "3             0              40  United-States  \n",
       "4             0              40           Cuba  "
      ]
     },
     "execution_count": 5,
     "metadata": {},
     "output_type": "execute_result"
    }
   ],
   "source": [
    "df.head()"
   ]
  },
  {
   "cell_type": "code",
   "execution_count": 6,
   "metadata": {},
   "outputs": [],
   "source": [
    "from sklearn import preprocessing\n",
    "\n",
    "categorical_columns=df.select_dtypes(include='object').columns\n",
    "\n",
    "encoder=preprocessing.OrdinalEncoder(dtype=int)\n",
    "df[categorical_columns]=encoder.fit_transform(df[categorical_columns].fillna('NaN'))\n",
    "df_valtest[categorical_columns]=encoder.transform(df_valtest[categorical_columns].fillna('NaN'))"
   ]
  },
  {
   "cell_type": "markdown",
   "metadata": {},
   "source": [
    "After the ordinal encoding, the main features of interest are converted as below.\n",
    "- sex: Male (1), Female (0)\n",
    "- target: >50K (1), <=50K (0)\n",
    "\n",
    "You can see the full mapping in `encoder.categories_`."
   ]
  },
  {
   "cell_type": "code",
   "execution_count": 7,
   "metadata": {},
   "outputs": [],
   "source": [
    "from sklearn.model_selection import train_test_split\n",
    "df_val, df_test = train_test_split(df_valtest, test_size=0.9, random_state=42, \n",
    "                                   shuffle=True, stratify=df_valtest['target'])"
   ]
  },
  {
   "cell_type": "code",
   "execution_count": 8,
   "metadata": {},
   "outputs": [
    {
     "data": {
      "text/plain": [
       "((32561, 14), (16281, 14), (1628, 14), (14653, 14))"
      ]
     },
     "execution_count": 8,
     "metadata": {},
     "output_type": "execute_result"
    }
   ],
   "source": [
    "df.shape, df_valtest.shape, df_val.shape, df_test.shape"
   ]
  },
  {
   "cell_type": "code",
   "execution_count": 127,
   "metadata": {},
   "outputs": [
    {
     "data": {
      "text/plain": [
       "Text(0.5, 0, 'Sex (0: Female, 1: Male)')"
      ]
     },
     "execution_count": 127,
     "metadata": {},
     "output_type": "execute_result"
    },
    {
     "data": {
      "image/png": "[encoded data removed]",
      "text/plain": [
       "<Figure size 432x288 with 1 Axes>"
      ]
     },
     "metadata": {},
     "output_type": "display_data"
    }
   ],
   "source": [
    "df['sex'].value_counts(sort=False).plot(kind='bar', title='Total count by sex', rot=0)\n",
    "plt.xlabel('Sex (0: Female, 1: Male)')"
   ]
  },
  {
   "cell_type": "code",
   "execution_count": 128,
   "metadata": {},
   "outputs": [
    {
     "data": {
      "text/plain": [
       "Text(0.5, 0, 'target (0: <=50K, 1: >50K)')"
      ]
     },
     "execution_count": 128,
     "metadata": {},
     "output_type": "execute_result"
    },
    {
     "data": {
      "image/png": "[encoded data removed]",
      "text/plain": [
       "<Figure size 432x288 with 1 Axes>"
      ]
     },
     "metadata": {},
     "output_type": "display_data"
    }
   ],
   "source": [
    "df['target'].value_counts(sort=False).plot(kind='bar', title='Target distribution', rot=0)\n",
    "plt.xlabel('target (0: <=50K, 1: >50K)')"
   ]
  },
  {
   "cell_type": "code",
   "execution_count": 129,
   "metadata": {},
   "outputs": [
    {
     "data": {
      "text/plain": [
       "Text(0.5, 0, 'Sex (0: Female, 1: Male)')"
      ]
     },
     "execution_count": 129,
     "metadata": {},
     "output_type": "execute_result"
    },
    {
     "data": {
      "image/png": "[encoded data removed]",
      "text/plain": [
       "<Figure size 432x288 with 1 Axes>"
      ]
     },
     "metadata": {},
     "output_type": "display_data"
    }
   ],
   "source": [
    "df[df['target']==1]['sex'].value_counts(sort=False).plot(\n",
    "            kind='bar', title='Earning >$50K by sex', rot=0)\n",
    "plt.xlabel('Sex (0: Female, 1: Male)')"
   ]
  },
  {
   "cell_type": "code",
   "execution_count": 12,
   "metadata": {},
   "outputs": [],
   "source": [
    "df.to_csv('adult/adult-data-train.csv', index=False, header=False)\n",
    "df_val.to_csv('adult/adult-data-val.csv', index=False, header=False)\n",
    "\n",
    "train_s3_uri = S3Uploader.upload('adult/adult-data-train.csv', \n",
    "                              f's3://{bucket}/{prefix}/adult-data')\n",
    "val_s3_uri = S3Uploader.upload('adult/adult-data-val.csv', \n",
    "                            f's3://{bucket}/{prefix}/adult-data')"
   ]
  },
  {
   "cell_type": "code",
   "execution_count": 13,
   "metadata": {},
   "outputs": [
    {
     "name": "stderr",
     "output_type": "stream",
     "text": [
      "INFO:sagemaker.image_uris:Defaulting to the only supported framework/algorithm version: 1.0.\n",
      "INFO:sagemaker.image_uris:Ignoring unnecessary instance type: None.\n"
     ]
    }
   ],
   "source": [
    "from sagemaker import clarify\n",
    "\n",
    "clarify_processor = clarify.SageMakerClarifyProcessor(\n",
    "                                    role=role, \n",
    "                                    instance_count=1, \n",
    "                                    instance_type='ml.m5.xlarge', \n",
    "                                    sagemaker_session=sess)"
   ]
  },
  {
   "cell_type": "code",
   "execution_count": 14,
   "metadata": {},
   "outputs": [],
   "source": [
    "experiment_name = 'adult-income-clarify'\n",
    "\n",
    "try:\n",
    "    experiment = Experiment.create(\n",
    "        experiment_name=experiment_name, \n",
    "        description='Analyzing ML bias in adult income dataset using SageMaker Clarify.')\n",
    "except ClientError as e:\n",
    "    print(f'{experiment_name} experiment already exists! Reusing the existing experiment.')"
   ]
  },
  {
   "cell_type": "markdown",
   "metadata": {},
   "source": [
    "## Pre-training bias analysis"
   ]
  },
  {
   "cell_type": "code",
   "execution_count": 15,
   "metadata": {},
   "outputs": [],
   "source": [
    "# Creating a new trial for the experiment\n",
    "exp_datetime_1 = strftime('%Y-%m-%d-%H-%M-%S', gmtime())\n",
    "\n",
    "exp_trial_1 = Trial.create(experiment_name=experiment_name, \n",
    "                           trial_name=exp_datetime_1)\n",
    "\n",
    "experiment_config={'ExperimentName': experiment_name,\n",
    "                   'TrialName': exp_trial_1.trial_name,\n",
    "                   'TrialComponentDisplayName': 'Pretraining-BiasAnalysis'}"
   ]
  },
  {
   "cell_type": "code",
   "execution_count": 16,
   "metadata": {},
   "outputs": [],
   "source": [
    "pretraining_bias_report_output_path = f's3://{bucket}/{prefix}/{experiment_name}-{exp_trial_1.trial_name}/clarify-pretraining-bias'\n",
    "\n",
    "bias_data_config = clarify.DataConfig(\n",
    "    s3_data_input_path=train_s3_uri,\n",
    "    s3_output_path=pretraining_bias_report_output_path,\n",
    "    label='target',\n",
    "    headers=df.columns.tolist(),\n",
    "    dataset_type='text/csv',\n",
    ")"
   ]
  },
  {
   "cell_type": "code",
   "execution_count": 17,
   "metadata": {},
   "outputs": [],
   "source": [
    "bias_config = clarify.BiasConfig(\n",
    "    label_values_or_threshold=[1], \n",
    "    facet_name=['sex', 'race'], \n",
    "    facet_values_or_threshold=[[0], None])"
   ]
  },
  {
   "cell_type": "code",
   "execution_count": 18,
   "metadata": {},
   "outputs": [
    {
     "name": "stderr",
     "output_type": "stream",
     "text": [
      "INFO:sagemaker:Creating processing-job with name adult-clarify-pretraining-bias-2022-01-31-20-44-03\n"
     ]
    },
    {
     "name": "stdout",
     "output_type": "stream",
     "text": [
      "\n",
      "Job Name:  adult-clarify-pretraining-bias-2022-01-31-20-44-03\n",
      "Inputs:  [{'InputName': 'dataset', 'AppManaged': False, 'S3Input': {'S3Uri': 's3://sagemaker-us-west-2-552106442228/sagemaker-studio-book/chapter4/adult-data/adult-data-train.csv', 'LocalPath': '/opt/ml/processing/input/data', 'S3DataType': 'S3Prefix', 'S3InputMode': 'File', 'S3DataDistributionType': 'FullyReplicated', 'S3CompressionType': 'None'}}, {'InputName': 'analysis_config', 'AppManaged': False, 'S3Input': {'S3Uri': 's3://sagemaker-us-west-2-552106442228/sagemaker-studio-book/chapter4/adult-income-clarify-2022-01-31-20-44-03/clarify-pretraining-bias/analysis_config.json', 'LocalPath': '/opt/ml/processing/input/config', 'S3DataType': 'S3Prefix', 'S3InputMode': 'File', 'S3DataDistributionType': 'FullyReplicated', 'S3CompressionType': 'None'}}]\n",
      "Outputs:  [{'OutputName': 'analysis_result', 'AppManaged': False, 'S3Output': {'S3Uri': 's3://sagemaker-us-west-2-552106442228/sagemaker-studio-book/chapter4/adult-income-clarify-2022-01-31-20-44-03/clarify-pretraining-bias', 'LocalPath': '/opt/ml/processing/output', 'S3UploadMode': 'EndOfJob'}}]\n"
     ]
    }
   ],
   "source": [
    "jobname = f'adult-clarify-pretraining-bias-{exp_datetime_1}'\n",
    "\n",
    "clarify_processor.run_pre_training_bias(\n",
    "    data_config=bias_data_config,\n",
    "    data_bias_config=bias_config,\n",
    "    methods='all',\n",
    "    job_name=jobname,\n",
    "    experiment_config=experiment_config,\n",
    "    wait=False,\n",
    "    logs=False)"
   ]
  },
  {
   "cell_type": "markdown",
   "metadata": {},
   "source": [
    "## Mitigating bias"
   ]
  },
  {
   "cell_type": "code",
   "execution_count": 19,
   "metadata": {},
   "outputs": [],
   "source": [
    "max_female_sample=df.groupby(['sex', 'target'], \n",
    "                             group_keys=False).count().loc[(0, 1)]['age']"
   ]
  },
  {
   "cell_type": "code",
   "execution_count": 20,
   "metadata": {},
   "outputs": [],
   "source": [
    "df_sampled=df.groupby(['sex', 'target'], \n",
    "                      group_keys=False).apply(lambda x: x.sample(max_female_sample))"
   ]
  },
  {
   "cell_type": "code",
   "execution_count": 21,
   "metadata": {},
   "outputs": [
    {
     "data": {
      "text/plain": [
       "(4716, 14)"
      ]
     },
     "execution_count": 21,
     "metadata": {},
     "output_type": "execute_result"
    }
   ],
   "source": [
    "df_sampled.shape"
   ]
  },
  {
   "cell_type": "code",
   "execution_count": 22,
   "metadata": {},
   "outputs": [
    {
     "data": {
      "text/plain": [
       "<matplotlib.axes._subplots.AxesSubplot at 0x7f1f8259c110>"
      ]
     },
     "execution_count": 22,
     "metadata": {},
     "output_type": "execute_result"
    },
    {
     "data": {
      "image/png": "[encoded data removed]",
      "text/plain": [
       "<Figure size 432x288 with 1 Axes>"
      ]
     },
     "metadata": {
      "needs_background": "light"
     },
     "output_type": "display_data"
    }
   ],
   "source": [
    "df_sampled['sex'].value_counts().sort_values().plot(kind='bar', \n",
    "                                                    title='Total count by sex', \n",
    "                                                    rot=0)"
   ]
  },
  {
   "cell_type": "code",
   "execution_count": 23,
   "metadata": {},
   "outputs": [
    {
     "data": {
      "text/plain": [
       "<matplotlib.axes._subplots.AxesSubplot at 0x7f1f825ca2d0>"
      ]
     },
     "execution_count": 23,
     "metadata": {},
     "output_type": "execute_result"
    },
    {
     "data": {
      "image/png": "[encoded data removed]",
      "text/plain": [
       "<Figure size 432x288 with 1 Axes>"
      ]
     },
     "metadata": {
      "needs_background": "light"
     },
     "output_type": "display_data"
    }
   ],
   "source": [
    "df_sampled['sex'].where(df_sampled['target'] == 1).value_counts().sort_values().plot(\n",
    "    kind='bar', title='Earning >$50K by sex', rot=0)"
   ]
  },
  {
   "cell_type": "code",
   "execution_count": 24,
   "metadata": {},
   "outputs": [],
   "source": [
    "df_sampled.to_csv('adult/adult-data-train-sampled.csv', index=False, header=False)\n",
    "train_sampled_s3_uri = S3Uploader.upload('adult/adult-data-train-sampled.csv', \n",
    "                                      f's3://{bucket}/{prefix}/adult-data')"
   ]
  },
  {
   "cell_type": "markdown",
   "metadata": {},
   "source": [
    "### Rerun the pre-training bias analysis to confirm"
   ]
  },
  {
   "cell_type": "code",
   "execution_count": 25,
   "metadata": {},
   "outputs": [
    {
     "name": "stderr",
     "output_type": "stream",
     "text": [
      "INFO:sagemaker:Creating processing-job with name adult-sampled-clarify-pretraining-bias-2022-01-31-20-44-05\n"
     ]
    },
    {
     "name": "stdout",
     "output_type": "stream",
     "text": [
      "\n",
      "Job Name:  adult-sampled-clarify-pretraining-bias-2022-01-31-20-44-05\n",
      "Inputs:  [{'InputName': 'dataset', 'AppManaged': False, 'S3Input': {'S3Uri': 's3://sagemaker-us-west-2-552106442228/sagemaker-studio-book/chapter4/adult-data/adult-data-train-sampled.csv', 'LocalPath': '/opt/ml/processing/input/data', 'S3DataType': 'S3Prefix', 'S3InputMode': 'File', 'S3DataDistributionType': 'FullyReplicated', 'S3CompressionType': 'None'}}, {'InputName': 'analysis_config', 'AppManaged': False, 'S3Input': {'S3Uri': 's3://sagemaker-us-west-2-552106442228/sagemaker-studio-book/chapter4/adult-income-clarify-2022-01-31-20-44-05/clarify-pretraining-bias/analysis_config.json', 'LocalPath': '/opt/ml/processing/input/config', 'S3DataType': 'S3Prefix', 'S3InputMode': 'File', 'S3DataDistributionType': 'FullyReplicated', 'S3CompressionType': 'None'}}]\n",
      "Outputs:  [{'OutputName': 'analysis_result', 'AppManaged': False, 'S3Output': {'S3Uri': 's3://sagemaker-us-west-2-552106442228/sagemaker-studio-book/chapter4/adult-income-clarify-2022-01-31-20-44-05/clarify-pretraining-bias', 'LocalPath': '/opt/ml/processing/output', 'S3UploadMode': 'EndOfJob'}}]\n"
     ]
    }
   ],
   "source": [
    "exp_datetime_2 = strftime('%Y-%m-%d-%H-%M-%S', gmtime())\n",
    "\n",
    "# Creating a new trial as we are working on a new dataset\n",
    "exp_trial_2 = Trial.create(experiment_name=experiment_name, \n",
    "                         trial_name=exp_datetime_2)\n",
    "\n",
    "experiment_config={'ExperimentName': experiment_name,\n",
    "                   'TrialName': exp_trial_2.trial_name,\n",
    "                   'TrialComponentDisplayName': 'Pretraining-BiasAnalysis'}\n",
    "\n",
    "pretraining_bias_report_output_path = f's3://{bucket}/{prefix}/{experiment_name}-{exp_trial_2.trial_name}/clarify-pretraining-bias'\n",
    "\n",
    "bias_data_config = clarify.DataConfig(\n",
    "    s3_data_input_path=train_sampled_s3_uri,\n",
    "    s3_output_path=pretraining_bias_report_output_path,\n",
    "    label='target',\n",
    "    headers=df_sampled.columns.tolist(),\n",
    "    dataset_type='text/csv')\n",
    "\n",
    "bias_config = clarify.BiasConfig(\n",
    "    label_values_or_threshold=[1], \n",
    "    facet_name=['sex', 'race'], \n",
    "    facet_values_or_threshold=[[0], None])\n",
    "\n",
    "jobname = f'adult-sampled-clarify-pretraining-bias-{exp_datetime_2}'\n",
    "\n",
    "clarify_processor.run_pre_training_bias(\n",
    "    data_config=bias_data_config,\n",
    "    data_bias_config=bias_config,\n",
    "    methods='all',\n",
    "    job_name=jobname,\n",
    "    experiment_config=experiment_config,\n",
    "    wait=False,\n",
    "    logs=False)"
   ]
  },
  {
   "cell_type": "markdown",
   "metadata": {},
   "source": [
    "## Training a ML model using XGBoost"
   ]
  },
  {
   "cell_type": "code",
   "execution_count": 26,
   "metadata": {
    "scrolled": true
   },
   "outputs": [
    {
     "name": "stderr",
     "output_type": "stream",
     "text": [
      "INFO:sagemaker.image_uris:Same images used for training and inference. Defaulting to image scope: inference.\n",
      "INFO:sagemaker.image_uris:Ignoring unnecessary instance type: None.\n",
      "INFO:sagemaker.image_uris:Defaulting to the only supported framework/algorithm version: latest.\n",
      "INFO:sagemaker.image_uris:Ignoring unnecessary instance type: None.\n",
      "INFO:sagemaker:Creating training-job with name: adult-xgb-2022-01-31-20-44-06\n"
     ]
    },
    {
     "name": "stdout",
     "output_type": "stream",
     "text": [
      "2022-01-31 20:44:06 Starting - Starting the training job...\n",
      "2022-01-31 20:44:29 Starting - Launching requested ML instancesProfilerReport-1643661846: InProgress\n",
      "......\n",
      "2022-01-31 20:45:31 Starting - Preparing the instances for training.........\n",
      "2022-01-31 20:46:51 Downloading - Downloading input data...\n",
      "2022-01-31 20:47:37 Training - Training image download completed. Training in progress.\n",
      "2022-01-31 20:47:37 Uploading - Uploading generated training model.\u001b[34m[2022-01-31 20:47:33.418 ip-10-0-77-234.us-west-2.compute.internal:1 INFO utils.py:27] RULE_JOB_STOP_SIGNAL_FILENAME: None\u001b[0m\n",
      "\u001b[34m[2022-01-31:20:47:33:INFO] Imported framework sagemaker_xgboost_container.training\u001b[0m\n",
      "\u001b[34m[2022-01-31:20:47:33:INFO] Failed to parse hyperparameter eval_metric value error to Json.\u001b[0m\n",
      "\u001b[34mReturning the value itself\u001b[0m\n",
      "\u001b[34m[2022-01-31:20:47:33:INFO] Failed to parse hyperparameter objective value binary:logistic to Json.\u001b[0m\n",
      "\u001b[34mReturning the value itself\u001b[0m\n",
      "\u001b[34m[2022-01-31:20:47:33:INFO] No GPUs detected (normal if no gpus installed)\u001b[0m\n",
      "\u001b[34m[2022-01-31:20:47:33:INFO] Running XGBoost Sagemaker in algorithm mode\u001b[0m\n",
      "\u001b[34m[2022-01-31:20:47:33:INFO] Determined delimiter of CSV input is ','\u001b[0m\n",
      "\u001b[34m[2022-01-31:20:47:33:INFO] Determined delimiter of CSV input is ','\u001b[0m\n",
      "\u001b[34m[2022-01-31:20:47:33:INFO] Determined delimiter of CSV input is ','\u001b[0m\n",
      "\u001b[34m[2022-01-31:20:47:33:INFO] Determined delimiter of CSV input is ','\u001b[0m\n",
      "\u001b[34m[2022-01-31:20:47:33:INFO] Single node training.\u001b[0m\n",
      "\u001b[34m[2022-01-31:20:47:33:INFO] Train matrix has 4716 rows and 13 columns\u001b[0m\n",
      "\u001b[34m[2022-01-31:20:47:33:INFO] Validation matrix has 1628 rows\u001b[0m\n",
      "\u001b[34m[0]#011train-error:0.18257#011validation-error:0.25737\u001b[0m\n",
      "\u001b[34m[1]#011train-error:0.16518#011validation-error:0.20639\u001b[0m\n",
      "\u001b[34m[2]#011train-error:0.16179#011validation-error:0.20577\u001b[0m\n",
      "\u001b[34m[3]#011train-error:0.15861#011validation-error:0.20577\u001b[0m\n",
      "\u001b[34m[4]#011train-error:0.15246#011validation-error:0.19595\u001b[0m\n",
      "\u001b[34m[5]#011train-error:0.14822#011validation-error:0.20393\u001b[0m\n",
      "\u001b[34m[6]#011train-error:0.15034#011validation-error:0.19840\u001b[0m\n",
      "\u001b[34m[7]#011train-error:0.14546#011validation-error:0.19779\u001b[0m\n",
      "\u001b[34m[8]#011train-error:0.14504#011validation-error:0.19595\u001b[0m\n",
      "\u001b[34m[9]#011train-error:0.14271#011validation-error:0.18612\u001b[0m\n",
      "\u001b[34m[10]#011train-error:0.13804#011validation-error:0.18612\u001b[0m\n",
      "\u001b[34m[11]#011train-error:0.13613#011validation-error:0.18243\u001b[0m\n",
      "\u001b[34m[12]#011train-error:0.13740#011validation-error:0.18120\u001b[0m\n",
      "\u001b[34m[13]#011train-error:0.13422#011validation-error:0.18550\u001b[0m\n",
      "\u001b[34m[14]#011train-error:0.13359#011validation-error:0.18305\u001b[0m\n",
      "\u001b[34m[15]#011train-error:0.13104#011validation-error:0.18489\u001b[0m\n",
      "\u001b[34m[16]#011train-error:0.12574#011validation-error:0.18550\u001b[0m\n",
      "\u001b[34m[17]#011train-error:0.12638#011validation-error:0.18673\u001b[0m\n",
      "\u001b[34m[18]#011train-error:0.12087#011validation-error:0.18305\u001b[0m\n",
      "\u001b[34m[19]#011train-error:0.12065#011validation-error:0.18366\u001b[0m\n",
      "\u001b[34m[20]#011train-error:0.11938#011validation-error:0.18366\u001b[0m\n",
      "\u001b[34m[21]#011train-error:0.11366#011validation-error:0.18305\u001b[0m\n",
      "\u001b[34m[22]#011train-error:0.11472#011validation-error:0.18489\u001b[0m\n",
      "\u001b[34m[23]#011train-error:0.11026#011validation-error:0.18243\u001b[0m\n",
      "\u001b[34m[24]#011train-error:0.11048#011validation-error:0.18612\u001b[0m\n",
      "\u001b[34m[25]#011train-error:0.10941#011validation-error:0.18489\u001b[0m\n",
      "\u001b[34m[26]#011train-error:0.10899#011validation-error:0.18366\u001b[0m\n",
      "\u001b[34m[27]#011train-error:0.10857#011validation-error:0.18305\u001b[0m\n",
      "\u001b[34m[28]#011train-error:0.10878#011validation-error:0.18550\u001b[0m\n",
      "\u001b[34m[29]#011train-error:0.10793#011validation-error:0.18489\u001b[0m\n",
      "\u001b[34m[30]#011train-error:0.10581#011validation-error:0.18243\u001b[0m\n",
      "\u001b[34m[31]#011train-error:0.10348#011validation-error:0.18366\u001b[0m\n",
      "\u001b[34m[32]#011train-error:0.10305#011validation-error:0.18427\u001b[0m\n",
      "\u001b[34m[33]#011train-error:0.10072#011validation-error:0.18673\u001b[0m\n",
      "\u001b[34m[34]#011train-error:0.10008#011validation-error:0.18489\u001b[0m\n",
      "\u001b[34m[35]#011train-error:0.10030#011validation-error:0.18489\u001b[0m\n",
      "\u001b[34m[36]#011train-error:0.10072#011validation-error:0.18366\u001b[0m\n",
      "\u001b[34m[37]#011train-error:0.09606#011validation-error:0.18366\u001b[0m\n",
      "\u001b[34m[38]#011train-error:0.09478#011validation-error:0.18427\u001b[0m\n",
      "\u001b[34m[39]#011train-error:0.09372#011validation-error:0.18427\u001b[0m\n",
      "\u001b[34m[40]#011train-error:0.09118#011validation-error:0.18735\u001b[0m\n",
      "\u001b[34m[41]#011train-error:0.08863#011validation-error:0.18796\u001b[0m\n",
      "\u001b[34m[42]#011train-error:0.08906#011validation-error:0.18857\u001b[0m\n",
      "\u001b[34m[43]#011train-error:0.08821#011validation-error:0.18919\u001b[0m\n",
      "\u001b[34m[44]#011train-error:0.08651#011validation-error:0.18673\u001b[0m\n",
      "\u001b[34m[45]#011train-error:0.08715#011validation-error:0.18612\u001b[0m\n",
      "\u001b[34m[46]#011train-error:0.08461#011validation-error:0.18243\u001b[0m\n",
      "\u001b[34m[47]#011train-error:0.08227#011validation-error:0.18243\u001b[0m\n",
      "\u001b[34m[48]#011train-error:0.08079#011validation-error:0.18120\u001b[0m\n",
      "\u001b[34m[49]#011train-error:0.07994#011validation-error:0.17813\u001b[0m\n",
      "\n",
      "2022-01-31 20:47:51 Completed - Training job completed\n",
      "Training seconds: 58\n",
      "Billable seconds: 58\n"
     ]
    }
   ],
   "source": [
    "exp_datetime_3 = strftime('%Y-%m-%d-%H-%M-%S', gmtime())\n",
    "jobname = f'adult-xgb-{exp_datetime_3}'\n",
    "\n",
    "experiment_config={'ExperimentName': experiment_name,\n",
    "                   'TrialName': exp_trial_2.trial_name,\n",
    "                   'TrialComponentDisplayName': 'Training'}\n",
    "\n",
    "image = image_uris.retrieve(region=region, framework='xgboost', version='1.3-1')\n",
    "\n",
    "train_s3_output = f's3://{bucket}/{prefix}/{experiment_name}-{exp_trial_2.trial_name}/training'\n",
    "\n",
    "xgb = sagemaker.estimator.Estimator(image,\n",
    "                                    role,\n",
    "                                    instance_type='ml.m5.xlarge',\n",
    "                                    instance_count=1,\n",
    "                                    output_path=train_s3_output,\n",
    "                                    enable_sagemaker_metrics=True,\n",
    "                                    sagemaker_session=sess)\n",
    "xgb.set_hyperparameters(objective='binary:logistic',\n",
    "                        eval_metric='error',\n",
    "                        num_round=50)\n",
    "\n",
    "train_input = sagemaker.inputs.TrainingInput(s3_data=train_sampled_s3_uri, \n",
    "                                             content_type='csv')\n",
    "\n",
    "val_input = sagemaker.inputs.TrainingInput(s3_data=val_s3_uri, \n",
    "                                             content_type='csv')\n",
    "\n",
    "data_channels={'train': train_input, 'validation': val_input}\n",
    "\n",
    "xgb.fit(inputs=data_channels, \n",
    "        job_name=jobname, \n",
    "        experiment_config=experiment_config, \n",
    "        wait=True)"
   ]
  },
  {
   "cell_type": "code",
   "execution_count": 27,
   "metadata": {},
   "outputs": [
    {
     "name": "stderr",
     "output_type": "stream",
     "text": [
      "INFO:sagemaker:Creating model with name: adult-xgb-model-2022-01-31-20-44-06\n"
     ]
    },
    {
     "data": {
      "text/plain": [
       "'adult-xgb-model-2022-01-31-20-44-06'"
      ]
     },
     "execution_count": 27,
     "metadata": {},
     "output_type": "execute_result"
    }
   ],
   "source": [
    "model_name = f'adult-xgb-model-{exp_datetime_3}'\n",
    "model = xgb.create_model(name=model_name)\n",
    "\n",
    "container_def = model.prepare_container_def()\n",
    "sess.create_model(model_name, role, container_def)"
   ]
  },
  {
   "cell_type": "markdown",
   "metadata": {},
   "source": [
    "## Detecting post-training bias"
   ]
  },
  {
   "cell_type": "code",
   "execution_count": 36,
   "metadata": {},
   "outputs": [],
   "source": [
    "experiment_config={'ExperimentName': experiment_name,\n",
    "                   'TrialName': exp_trial_2.trial_name,\n",
    "                   'TrialComponentDisplayName': 'Posttraining-BiasAnalysis'}\n",
    "\n",
    "posttraining_bias_report_output_path = f's3://{bucket}/{prefix}/{experiment_name}-{exp_trial_2.trial_name}/clarify-posttraining-bias'\n",
    "\n",
    "bias_data_config = clarify.DataConfig(\n",
    "    s3_data_input_path=train_sampled_s3_uri,\n",
    "    s3_output_path=posttraining_bias_report_output_path,\n",
    "    label='target',\n",
    "    headers=df_sampled.columns.tolist(),\n",
    "    dataset_type='text/csv')\n",
    "\n",
    "bias_config = clarify.BiasConfig(\n",
    "    label_values_or_threshold=[1], \n",
    "    facet_name=['sex', 'race'], \n",
    "    facet_values_or_threshold=[[0], None])"
   ]
  },
  {
   "cell_type": "code",
   "execution_count": 37,
   "metadata": {},
   "outputs": [],
   "source": [
    "model_config = clarify.ModelConfig(\n",
    "    model_name=model_name,\n",
    "    instance_type='ml.m5.xlarge',\n",
    "    instance_count=1,\n",
    "    accept_type='text/csv',\n",
    "    content_type='text/csv')\n",
    "\n",
    "predictions_config = clarify.ModelPredictedLabelConfig(probability_threshold=0.5)"
   ]
  },
  {
   "cell_type": "code",
   "execution_count": 39,
   "metadata": {},
   "outputs": [
    {
     "name": "stderr",
     "output_type": "stream",
     "text": [
      "INFO:sagemaker:Creating processing-job with name adult-sampled-clarify-posttraining-bias-2022-01-31-20-44-06\n"
     ]
    },
    {
     "name": "stdout",
     "output_type": "stream",
     "text": [
      "\n",
      "Job Name:  adult-sampled-clarify-posttraining-bias-2022-01-31-20-44-06\n",
      "Inputs:  [{'InputName': 'dataset', 'AppManaged': False, 'S3Input': {'S3Uri': 's3://sagemaker-us-west-2-552106442228/sagemaker-studio-book/chapter4/adult-data/adult-data-train-sampled.csv', 'LocalPath': '/opt/ml/processing/input/data', 'S3DataType': 'S3Prefix', 'S3InputMode': 'File', 'S3DataDistributionType': 'FullyReplicated', 'S3CompressionType': 'None'}}, {'InputName': 'analysis_config', 'AppManaged': False, 'S3Input': {'S3Uri': 's3://sagemaker-us-west-2-552106442228/sagemaker-studio-book/chapter4/adult-income-clarify-2022-01-31-20-44-05/clarify-posttraining-bias/analysis_config.json', 'LocalPath': '/opt/ml/processing/input/config', 'S3DataType': 'S3Prefix', 'S3InputMode': 'File', 'S3DataDistributionType': 'FullyReplicated', 'S3CompressionType': 'None'}}]\n",
      "Outputs:  [{'OutputName': 'analysis_result', 'AppManaged': False, 'S3Output': {'S3Uri': 's3://sagemaker-us-west-2-552106442228/sagemaker-studio-book/chapter4/adult-income-clarify-2022-01-31-20-44-05/clarify-posttraining-bias', 'LocalPath': '/opt/ml/processing/output', 'S3UploadMode': 'EndOfJob'}}]\n"
     ]
    }
   ],
   "source": [
    "exp_datetime_4 = strftime('%Y-%m-%d-%H-%M-%S', gmtime())\n",
    "jobname = f'adult-sampled-clarify-posttraining-bias-{exp_datetime_4}'\n",
    "\n",
    "clarify_processor.run_post_training_bias(\n",
    "    data_config=bias_data_config,\n",
    "    data_bias_config=bias_config,\n",
    "    model_config=model_config,\n",
    "    model_predicted_label_config=predictions_config,\n",
    "    methods='all',    \n",
    "    job_name=jobname,\n",
    "    experiment_config=experiment_config,\n",
    "    wait=False,\n",
    "    logs=False\n",
    ")"
   ]
  },
  {
   "cell_type": "markdown",
   "metadata": {},
   "source": [
    "## Explaining ML models using SHAP values"
   ]
  },
  {
   "cell_type": "code",
   "execution_count": 31,
   "metadata": {},
   "outputs": [],
   "source": [
    "experiment_config={'ExperimentName': experiment_name,\n",
    "                   'TrialName': exp_trial_2.trial_name,\n",
    "                   'TrialComponentDisplayName': 'Posttraining-SHAP'}\n",
    "\n",
    "explainability_output_path = f's3://{bucket}/{prefix}/{experiment_name}-{exp_trial_2.trial_name}/clarify-explainability'\n",
    "\n",
    "explainability_data_config = clarify.DataConfig(\n",
    "    s3_data_input_path=train_sampled_s3_uri,\n",
    "    s3_output_path=explainability_output_path,\n",
    "    label='target',\n",
    "    headers=df_sampled.columns.tolist(),\n",
    "    dataset_type='text/csv')\n",
    "\n",
    "model_config = clarify.ModelConfig(\n",
    "    model_name=model_name,\n",
    "    instance_type='ml.m5.xlarge',\n",
    "    instance_count=1,\n",
    "    accept_type='text/csv',\n",
    "    content_type='text/csv')\n",
    "\n",
    "baseline = df_sampled.query('target == 1').mode().iloc[0, 1:].astype(int).tolist()\n",
    "shap_config = clarify.SHAPConfig(\n",
    "    baseline=[baseline],\n",
    "    num_samples=15,\n",
    "    agg_method='mean_abs')\n"
   ]
  },
  {
   "cell_type": "code",
   "execution_count": 32,
   "metadata": {},
   "outputs": [
    {
     "name": "stderr",
     "output_type": "stream",
     "text": [
      "INFO:sagemaker:Creating processing-job with name adult-sampled-clarify-posttraining-shap-2022-01-31-20-44-05\n"
     ]
    },
    {
     "name": "stdout",
     "output_type": "stream",
     "text": [
      "\n",
      "Job Name:  adult-sampled-clarify-posttraining-shap-2022-01-31-20-44-05\n",
      "Inputs:  [{'InputName': 'dataset', 'AppManaged': False, 'S3Input': {'S3Uri': 's3://sagemaker-us-west-2-552106442228/sagemaker-studio-book/chapter4/adult-data/adult-data-train-sampled.csv', 'LocalPath': '/opt/ml/processing/input/data', 'S3DataType': 'S3Prefix', 'S3InputMode': 'File', 'S3DataDistributionType': 'FullyReplicated', 'S3CompressionType': 'None'}}, {'InputName': 'analysis_config', 'AppManaged': False, 'S3Input': {'S3Uri': 's3://sagemaker-us-west-2-552106442228/sagemaker-studio-book/chapter4/adult-income-clarify-2022-01-31-20-44-05/clarify-explainability/analysis_config.json', 'LocalPath': '/opt/ml/processing/input/config', 'S3DataType': 'S3Prefix', 'S3InputMode': 'File', 'S3DataDistributionType': 'FullyReplicated', 'S3CompressionType': 'None'}}]\n",
      "Outputs:  [{'OutputName': 'analysis_result', 'AppManaged': False, 'S3Output': {'S3Uri': 's3://sagemaker-us-west-2-552106442228/sagemaker-studio-book/chapter4/adult-income-clarify-2022-01-31-20-44-05/clarify-explainability', 'LocalPath': '/opt/ml/processing/output', 'S3UploadMode': 'EndOfJob'}}]\n"
     ]
    }
   ],
   "source": [
    "exp_datetime_5 = strftime('%Y-%m-%d-%H-%M-%S', gmtime())\n",
    "jobname = f'adult-sampled-clarify-posttraining-shap-{exp_datetime_5}'\n",
    "\n",
    "clarify_processor.run_explainability(\n",
    "    data_config=explainability_data_config,\n",
    "    model_config=model_config,\n",
    "    explainability_config=shap_config,\n",
    "    job_name=jobname,\n",
    "    experiment_config=experiment_config,\n",
    "    wait=False,\n",
    "    logs=False)"
   ]
  },
  {
   "cell_type": "code",
   "execution_count": 135,
   "metadata": {},
   "outputs": [
    {
     "name": "stdout",
     "output_type": "stream",
     "text": [
      "Example number: 500\n",
      "with model prediction: False\n",
      "\n",
      "Feature values: \n",
      "target                 0\n",
      "age                   37\n",
      "workclass              4\n",
      "fnlwgt            243425\n",
      "education-num          9\n",
      "marital-status         0\n",
      "occupation             8\n",
      "relationship           2\n",
      "race                   4\n",
      "sex                    0\n",
      "capital-gain           0\n",
      "capital-loss           0\n",
      "hours-per-week        50\n",
      "native-country        29\n",
      "Name: 4085, dtype: int64\n"
     ]
    },
    {
     "data": {
      "text/plain": [
       "<matplotlib.axes._subplots.AxesSubplot at 0x7f1f723dd4d0>"
      ]
     },
     "execution_count": 135,
     "metadata": {},
     "output_type": "execute_result"
    },
    {
     "data": {
      "image/png": "[encoded data removed]",
      "text/plain": [
       "<Figure size 432x288 with 1 Axes>"
      ]
     },
     "metadata": {},
     "output_type": "display_data"
    }
   ],
   "source": [
    "S3Downloader.download(f'{explainability_output_path}/explanations_shap/out.csv', \n",
    "                      './',\n",
    "                      sagemaker_session=sess)\n",
    "local_explanations_out = pd.read_csv('out.csv')\n",
    "feature_names = [str.replace(c, '_label0', '') \n",
    "                 for c in local_explanations_out.columns.to_series()]\n",
    "local_explanations_out.columns = feature_names\n",
    "\n",
    "selected_example = 500\n",
    "print(f'Example number: {selected_example}')\n",
    "print(f'with model prediction: {sum(local_explanations_out.iloc[selected_example]) > 0}')\n",
    "print()\n",
    "print(f'Feature values: \\n{df_sampled.iloc[selected_example]}')\n",
    "\n",
    "local_explanations_out.iloc[selected_example].plot(\n",
    "    kind='bar', \n",
    "    title=f'Local explanation for the example number {selected_example}', \n",
    "    rot=90)"
   ]
  },
  {
   "cell_type": "code",
   "execution_count": null,
   "metadata": {},
   "outputs": [],
   "source": []
  }
 ],
 "metadata": {
  "instance_type": "ml.t3.medium",
  "kernelspec": {
   "display_name": "Python 3 (Data Science)",
   "language": "python",
   "name": "python3__SAGEMAKER_INTERNAL__arn:aws:sagemaker:us-west-2:236514542706:image/datascience-1.0"
  },
  "language_info": {
   "codemirror_mode": {
    "name": "ipython",
    "version": 3
   },
   "file_extension": ".py",
   "mimetype": "text/x-python",
   "name": "python",
   "nbconvert_exporter": "python",
   "pygments_lexer": "ipython3",
   "version": "3.7.10"
  }
 },
 "nbformat": 4,
 "nbformat_minor": 4
}
