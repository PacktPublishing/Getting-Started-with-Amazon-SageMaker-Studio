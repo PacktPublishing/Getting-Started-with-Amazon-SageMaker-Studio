{
 "cells": [
  {
   "cell_type": "markdown",
   "metadata": {},
   "source": [
    "This notebook is developed using the `Python 3 (Data Science)` kernel on an `ml.t3.medium` instance.\n",
    "## Use case\n",
    "Auto-mpg data contains data of each car by years. With SM Feature Store, we can easily manage the features over years for each car. There are 56 cars that have records more than 1 year. We will create a feature store for the auto data, ingest the data of their first appearance, then update the feature store with new records by years. After the data is ingested, we show how to access data for training and inference purposes. And how to traverse over time to get feature point-in-time."
   ]
  },
  {
   "cell_type": "code",
   "execution_count": null,
   "metadata": {},
   "outputs": [],
   "source": [
    "import sagemaker\n",
    "import sys\n",
    "\n",
    "import boto3\n",
    "import pandas as pd\n",
    "import numpy as np\n",
    "import io\n",
    "import time\n",
    "from time import gmtime, strftime, sleep\n",
    "import datetime\n",
    "\n",
    "role = sagemaker.get_execution_role()\n",
    "sess = sagemaker.Session()\n",
    "region = sess.boto_region_name\n",
    "bucket = sess.default_bucket()\n",
    "prefix = 'sagemaker-studio-book/chapter04'"
   ]
  },
  {
   "cell_type": "markdown",
   "metadata": {},
   "source": [
    "Importing data from UCI"
   ]
  },
  {
   "cell_type": "code",
   "execution_count": null,
   "metadata": {},
   "outputs": [],
   "source": [
    "data_url='https://archive.ics.uci.edu/ml/machine-learning-databases/auto-mpg/auto-mpg.data'\n",
    "col_names=['mpg','cylinders', 'displacement', 'horsepower', 'weight', \n",
    "           'acceleration', 'model_year', 'origin', 'car_name']\n",
    "\n",
    "df=pd.read_csv(data_url, delimiter='\\s+', header=None, names=col_names, na_values='?')"
   ]
  },
  {
   "cell_type": "code",
   "execution_count": null,
   "metadata": {},
   "outputs": [],
   "source": [
    "df.sort_values(by=['car_name', 'model_year'])"
   ]
  },
  {
   "cell_type": "code",
   "execution_count": null,
   "metadata": {},
   "outputs": [],
   "source": [
    "df['car_name']=df['car_name'].astype('string')"
   ]
  },
  {
   "cell_type": "code",
   "execution_count": null,
   "metadata": {},
   "outputs": [],
   "source": [
    "# data frames by years\n",
    "d_df = {}\n",
    "for yr in df['model_year'].unique():\n",
    "    print(yr)\n",
    "    d_df[str(yr)]=df[df['model_year']==yr]\n",
    "    d_df[str(yr)]['event_time']=datetime.datetime(1900+yr, 1, 1, 8, 0, 0).timestamp()\n",
    "#     print(d_df[str(yr)].shape)"
   ]
  },
  {
   "cell_type": "code",
   "execution_count": null,
   "metadata": {},
   "outputs": [],
   "source": [
    "d_df['70'].head()"
   ]
  },
  {
   "cell_type": "markdown",
   "metadata": {},
   "source": [
    "## Create a feature group\n",
    "We first start by creating feature group names for the auto-mpg data."
   ]
  },
  {
   "cell_type": "code",
   "execution_count": null,
   "metadata": {},
   "outputs": [],
   "source": [
    "timestamp=strftime('%Y-%m-%d-%H-%M-%S', gmtime())\n",
    "\n",
    "feature_group_name = 'auto-mpg-%s' % timestamp"
   ]
  },
  {
   "cell_type": "code",
   "execution_count": null,
   "metadata": {},
   "outputs": [],
   "source": [
    "from sagemaker.feature_store.feature_group import FeatureGroup\n",
    "\n",
    "feature_group = FeatureGroup(name=feature_group_name, sagemaker_session=sess)"
   ]
  },
  {
   "cell_type": "code",
   "execution_count": null,
   "metadata": {},
   "outputs": [],
   "source": [
    "record_identifier_feature_name = 'car_name'\n",
    "event_time_feature_name = 'event_time'"
   ]
  },
  {
   "cell_type": "code",
   "execution_count": null,
   "metadata": {},
   "outputs": [],
   "source": [
    "feature_group.load_feature_definitions(data_frame=d_df['70'])"
   ]
  },
  {
   "cell_type": "code",
   "execution_count": null,
   "metadata": {},
   "outputs": [],
   "source": [
    "description='This feature group tracks the vehicle information such as mpg, and horsepower between 1970 and 1982.'\n",
    "len(description)\n",
    "# description has to be less than 128 characters"
   ]
  },
  {
   "cell_type": "code",
   "execution_count": null,
   "metadata": {},
   "outputs": [],
   "source": [
    "feature_group.create(\n",
    "    s3_uri=f's3://{bucket}/{prefix}',\n",
    "    enable_online_store=True,\n",
    "    record_identifier_name=record_identifier_feature_name,\n",
    "    event_time_feature_name=event_time_feature_name,\n",
    "    description=description,\n",
    "    role_arn=role)"
   ]
  },
  {
   "cell_type": "code",
   "execution_count": null,
   "metadata": {},
   "outputs": [],
   "source": [
    "def check_feature_group_status(feature_group):\n",
    "    status = feature_group.describe().get(\"FeatureGroupStatus\")\n",
    "    while status == \"Creating\":\n",
    "        print(\"Waiting for Feature Group to be Created\")\n",
    "        time.sleep(5)\n",
    "        status = feature_group.describe().get(\"FeatureGroupStatus\")\n",
    "    print(f\"FeatureGroup {feature_group.name} successfully created.\")\n",
    "\n",
    "check_feature_group_status(feature_group)"
   ]
  },
  {
   "cell_type": "markdown",
   "metadata": {},
   "source": [
    "## Ingest data into a feature group"
   ]
  },
  {
   "cell_type": "code",
   "execution_count": null,
   "metadata": {},
   "outputs": [],
   "source": [
    "for yr, df_auto in d_df.items():\n",
    "    print(yr)\n",
    "    print(df_auto.shape)\n",
    "    feature_group.ingest(data_frame=df_auto, max_workers=1, max_processes = 1, wait=True)"
   ]
  },
  {
   "cell_type": "code",
   "execution_count": null,
   "metadata": {},
   "outputs": [],
   "source": [
    "car_name = 'amc concord'\n",
    "featurestore_runtime =  sess.boto_session.client(service_name='sagemaker-featurestore-runtime', \n",
    "                                                 region_name=region)\n",
    "sample_record = featurestore_runtime.get_record(\n",
    "            FeatureGroupName=feature_group_name, \n",
    "            RecordIdentifierValueAsString=car_name)"
   ]
  },
  {
   "cell_type": "code",
   "execution_count": null,
   "metadata": {},
   "outputs": [],
   "source": [
    "sample_record"
   ]
  },
  {
   "cell_type": "markdown",
   "metadata": {},
   "source": [
    "To ingest features for a record in a streaming fashion, we could use the put_record API from the sagemaker-featurestore-runtime boto3 API to ingest a single data record, as shown in the following example snippet.\n",
    "```python\n",
    "record = [{'FeatureName': 'mpg', \n",
    "           'ValueAsString': str(mpg)},\n",
    "          {'FeatureName':'cylinders', \n",
    "           'ValueAsString': str(cylinders)},\n",
    "          {'FeatureName':'displacement', \n",
    "           'ValueAsString': str(displacement)}, \n",
    "          {'FeatureName': 'horsepower', \n",
    "           'ValueAsString': str(horseposwer)},\n",
    "          {'FeatureName': 'weight', \n",
    "           'ValueAsString': str(weight)},\n",
    "          {'FeatureName': 'acceleration', \n",
    "           'ValueAsString': str(acceleration)},\n",
    "          {'FeatureName': 'model_year', \n",
    "           'ValueAsString': str(model_year)},\n",
    "          {'FeatureName': 'origin', \n",
    "           'ValueAsString': str(origin)},\n",
    "          {'FeatureName': 'car_name', \n",
    "           'ValueAsString': str(car_name)},\n",
    "          {'FeatureName': 'event_time', \n",
    "           'ValueAsString': str(int(round(time.time())))}]\n",
    "featurestore_runtime.put_record(FeatureGroupName=feature_group_name, \n",
    "                                Record=record)\n",
    "```                                "
   ]
  },
  {
   "cell_type": "markdown",
   "metadata": {},
   "source": [
    "## Accessing an offline store – building a dataset for analysis and training\n",
    "SageMaker automatically synchronizes features from the online store to the offline store. It takes up to 15 minutes to populate the offline store. If you run the query below right after the feature ingestion, you may see empty `dataset`. Please try it again in a moment. "
   ]
  },
  {
   "cell_type": "code",
   "execution_count": null,
   "metadata": {},
   "outputs": [],
   "source": [
    "query = feature_group.athena_query()\n",
    "table_name = query.table_name\n",
    "\n",
    "query_string = ('SELECT * FROM \"%s\"' % table_name)\n",
    "print('Running ' + query_string)\n",
    "\n",
    "query.run(query_string=query_string,\n",
    "          output_location=f's3://{bucket}/{prefix}/query_results/')\n",
    "query.wait()\n",
    "dataset = query.as_dataframe()"
   ]
  },
  {
   "cell_type": "code",
   "execution_count": null,
   "metadata": {},
   "outputs": [],
   "source": [
    "dataset.head()"
   ]
  },
  {
   "cell_type": "code",
   "execution_count": null,
   "metadata": {},
   "outputs": [],
   "source": [
    "dataset.shape"
   ]
  },
  {
   "cell_type": "code",
   "execution_count": null,
   "metadata": {},
   "outputs": [],
   "source": [
    "query_string_2 = '''\n",
    "SELECT * FROM \"%s\" WHERE model_year < 79\n",
    "''' % table_name\n",
    "print('Running ' + query_string_2)\n",
    "\n",
    "query.run(\n",
    "        query_string=query_string_2,\n",
    "        output_location=f's3://{bucket}/{prefix}/query_results/')\n",
    "query.wait()\n",
    "dataset_2 = query.as_dataframe()"
   ]
  },
  {
   "cell_type": "code",
   "execution_count": null,
   "metadata": {},
   "outputs": [],
   "source": [
    "dataset_2.shape"
   ]
  },
  {
   "cell_type": "code",
   "execution_count": null,
   "metadata": {},
   "outputs": [],
   "source": [
    "dataset_2.head()"
   ]
  },
  {
   "cell_type": "code",
   "execution_count": null,
   "metadata": {},
   "outputs": [],
   "source": [
    "query_string_3='''\n",
    "SELECT *\n",
    "FROM\n",
    "    (SELECT *,\n",
    "         row_number()\n",
    "        OVER (PARTITION BY car_name\n",
    "    ORDER BY  event_time desc, Api_Invocation_Time DESC, write_time DESC) AS row_number\n",
    "    FROM \"%s\"\n",
    "    where event_time < %.f)\n",
    "WHERE row_number = 1 and\n",
    "NOT is_deleted\n",
    "''' % (table_name, datetime.datetime(1979, 1, 1, 8, 0, 0).timestamp())\n",
    "\n",
    "print('Running ' + query_string_3)\n",
    "\n",
    "query.run(\n",
    "        query_string=query_string_3,\n",
    "        output_location=f's3://{bucket}/{prefix}/query_results/')\n",
    "query.wait()\n",
    "dataset_3 = query.as_dataframe()"
   ]
  },
  {
   "cell_type": "code",
   "execution_count": null,
   "metadata": {},
   "outputs": [],
   "source": [
    "dataset_3.shape"
   ]
  },
  {
   "cell_type": "code",
   "execution_count": null,
   "metadata": {},
   "outputs": [],
   "source": [
    "dataset_2[dataset_2['car_name']=='amc gremlin']"
   ]
  },
  {
   "cell_type": "code",
   "execution_count": null,
   "metadata": {},
   "outputs": [],
   "source": [
    "dataset_3[dataset_3['car_name']=='amc gremlin']"
   ]
  },
  {
   "cell_type": "markdown",
   "metadata": {},
   "source": [
    "## Accessing online store – low-latency feature retrieval"
   ]
  },
  {
   "cell_type": "code",
   "execution_count": null,
   "metadata": {},
   "outputs": [],
   "source": [
    "car_name = 'amc gremlin'\n",
    "featurestore_runtime =  sess.boto_session.client(service_name='sagemaker-featurestore-runtime', \n",
    "                                                 region_name=region)\n",
    "amc_gremlin = featurestore_runtime.get_record(\n",
    "    FeatureGroupName=feature_group_name, RecordIdentifierValueAsString=car_name)\n",
    "\n",
    "amc_gremlin['Record']"
   ]
  },
  {
   "cell_type": "code",
   "execution_count": null,
   "metadata": {},
   "outputs": [],
   "source": [
    "car_names = ['amc gremlin', 'amc concord', 'dodge colt']\n",
    "feature_names = ['cylinders', 'displacement', 'horsepower']\n",
    "sample_batch_records=featurestore_runtime.batch_get_record(\n",
    "   Identifiers=[\n",
    "     {\n",
    "       'FeatureGroupName': feature_group_name,\n",
    "       'RecordIdentifiersValueAsString': car_names,\n",
    "       'FeatureNames': feature_names\n",
    "     },\n",
    "   ]\n",
    ")\n",
    "sample_batch_records['Records'][0]['Record'] # indexing first record"
   ]
  },
  {
   "cell_type": "markdown",
   "metadata": {},
   "source": [
    "Uncomment the last cell to delete the feature store if no longer needed."
   ]
  },
  {
   "cell_type": "code",
   "execution_count": null,
   "metadata": {},
   "outputs": [],
   "source": [
    "# feature_group.delete()"
   ]
  }
 ],
 "metadata": {
  "instance_type": "ml.t3.medium",
  "kernelspec": {
   "display_name": "Python 3 (Data Science)",
   "language": "python",
   "name": "python3__SAGEMAKER_INTERNAL__arn:aws:sagemaker:us-east-1:081325390199:image/datascience-1.0"
  },
  "language_info": {
   "codemirror_mode": {
    "name": "ipython",
    "version": 3
   },
   "file_extension": ".py",
   "mimetype": "text/x-python",
   "name": "python",
   "nbconvert_exporter": "python",
   "pygments_lexer": "ipython3",
   "version": "3.7.10"
  }
 },
 "nbformat": 4,
 "nbformat_minor": 4
}
