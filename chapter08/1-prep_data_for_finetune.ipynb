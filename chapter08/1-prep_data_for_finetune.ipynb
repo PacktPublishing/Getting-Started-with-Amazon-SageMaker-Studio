{
 "cells": [
  {
   "cell_type": "markdown",
   "metadata": {},
   "source": [
    "### Downloading SQuAD-v2 from source"
   ]
  },
  {
   "cell_type": "code",
   "execution_count": null,
   "metadata": {},
   "outputs": [],
   "source": [
    "!wget https://rajpurkar.github.io/SQuAD-explorer/dataset/train-v2.0.json"
   ]
  },
  {
   "cell_type": "code",
   "execution_count": 2,
   "metadata": {},
   "outputs": [],
   "source": [
    "import json\n",
    "# with open('dev-v2.0.json') as f:\n",
    "#   squad_dev = json.load(f)\n",
    "with open('train-v2.0.json') as f:\n",
    "  squad_train = json.load(f)"
   ]
  },
  {
   "cell_type": "markdown",
   "metadata": {},
   "source": [
    "### Fine tune with questions related to Buddhism\n",
    "Extract Buddhism from titles"
   ]
  },
  {
   "cell_type": "code",
   "execution_count": 3,
   "metadata": {},
   "outputs": [],
   "source": [
    "title_of_interest = [(i, j['title']) \n",
    "                     for i, j in enumerate(squad_train['data']) \n",
    "                     if j['title'] == 'Buddhism']"
   ]
  },
  {
   "cell_type": "code",
   "execution_count": 4,
   "metadata": {},
   "outputs": [
    {
     "data": {
      "text/plain": [
       "[(11, 'Buddhism')]"
      ]
     },
     "execution_count": 4,
     "metadata": {},
     "output_type": "execute_result"
    }
   ],
   "source": [
    "title_of_interest"
   ]
  },
  {
   "cell_type": "markdown",
   "metadata": {},
   "source": [
    "Buddhism is located at index 11. Take a look at the dictionary."
   ]
  },
  {
   "cell_type": "code",
   "execution_count": 8,
   "metadata": {
    "scrolled": true
   },
   "outputs": [
    {
     "data": {
      "text/plain": [
       "{'qas': [{'question': 'What type of religion is Buddhism?',\n",
       "   'id': '56cff91b234ae51400d9c1bb',\n",
       "   'answers': [{'text': 'nontheistic', 'answer_start': 25}],\n",
       "   'is_impossible': False},\n",
       "  {'question': 'What are the practices of Buddhism based on?',\n",
       "   'id': '56cff91b234ae51400d9c1bc',\n",
       "   'answers': [{'text': 'teachings attributed to Gautama Buddha',\n",
       "     'answer_start': 202}],\n",
       "   'is_impossible': False},\n",
       "  {'question': 'Where did the Buddha live?',\n",
       "   'id': '56cff91b234ae51400d9c1bd',\n",
       "   'answers': [{'text': 'present-day Nepal', 'answer_start': 402}],\n",
       "   'is_impossible': False},\n",
       "  {'question': 'How do Buddhists believe their suffering can be ended?',\n",
       "   'id': '56cff91b234ae51400d9c1be',\n",
       "   'answers': [{'text': 'through the direct understanding and perception of dependent origination and the Four Noble Truths',\n",
       "     'answer_start': 706}],\n",
       "   'is_impossible': False},\n",
       "  {'question': 'What did the Buddha teach should be given up to end suffering?',\n",
       "   'id': '56cff91b234ae51400d9c1bf',\n",
       "   'answers': [{'text': 'ignorance and craving', 'answer_start': 639}],\n",
       "   'is_impossible': False},\n",
       "  {'question': 'What type of religion is Buddhism?',\n",
       "   'id': '56d0c933234ae51400d9c43c',\n",
       "   'answers': [{'text': 'nontheistic religion', 'answer_start': 25}],\n",
       "   'is_impossible': False},\n",
       "  {'question': \"Who's teaching is Buddhism based upon?\",\n",
       "   'id': '56d0c933234ae51400d9c43d',\n",
       "   'answers': [{'text': 'Gautama Buddha', 'answer_start': 226}],\n",
       "   'is_impossible': False},\n",
       "  {'question': 'When was Buddha alive?',\n",
       "   'id': '56d0c933234ae51400d9c43e',\n",
       "   'answers': [{'text': 'between the 6th and 4th centuries BCE',\n",
       "     'answer_start': 429}],\n",
       "   'is_impossible': False},\n",
       "  {'question': 'Where did Buddha reside when he was alive?',\n",
       "   'id': '56d0c933234ae51400d9c43f',\n",
       "   'answers': [{'text': 'present-day Nepal', 'answer_start': 402}],\n",
       "   'is_impossible': False},\n",
       "  {'question': \"Who's teachings is Buddhism based upon?\",\n",
       "   'id': '56d0d6db17492d1400aab662',\n",
       "   'answers': [{'text': 'Gautama Buddha', 'answer_start': 226}],\n",
       "   'is_impossible': False},\n",
       "  {'question': 'Where was Buddha thought to live?',\n",
       "   'id': '56d0d6db17492d1400aab663',\n",
       "   'answers': [{'text': 'Nepal', 'answer_start': 414}],\n",
       "   'is_impossible': False},\n",
       "  {'question': 'When approximately was Buddha alive?',\n",
       "   'id': '56d0d6db17492d1400aab664',\n",
       "   'answers': [{'text': 'sometime between the 6th and 4th centuries BCE',\n",
       "     'answer_start': 420}],\n",
       "   'is_impossible': False},\n",
       "  {'question': 'Buddhism is based on the teaching of who?',\n",
       "   'id': '56d1b926e7d4791d009020cd',\n",
       "   'answers': [{'text': 'Gautama Buddha', 'answer_start': 226}],\n",
       "   'is_impossible': False},\n",
       "  {'question': 'How many noble truths are there?',\n",
       "   'id': '56d1b926e7d4791d009020cf',\n",
       "   'answers': [{'text': '4', 'answer_start': 449}],\n",
       "   'is_impossible': False},\n",
       "  {'question': 'Buddha was part of what subcontinent?',\n",
       "   'id': '56d1b926e7d4791d009020d0',\n",
       "   'answers': [{'text': 'Indian', 'answer_start': 381}],\n",
       "   'is_impossible': False},\n",
       "  {'question': 'Who is \"the awakened one\"',\n",
       "   'id': '56d1b926e7d4791d009020d1',\n",
       "   'answers': [{'text': 'Buddha', 'answer_start': 234}],\n",
       "   'is_impossible': False}],\n",
       " 'context': 'Buddhism /ˈbudɪzəm/ is a nontheistic religion[note 1] or philosophy (Sanskrit: धर्म dharma; Pali: धम्म dhamma) that encompasses a variety of traditions, beliefs and spiritual practices largely based on teachings attributed to Gautama Buddha, commonly known as the Buddha (\"the awakened one\"). According to Buddhist tradition, the Buddha lived and taught in the eastern part of the Indian subcontinent, present-day Nepal sometime between the 6th and 4th centuries BCE.[note 1] He is recognized by Buddhists as an awakened or enlightened teacher who shared his insights to help sentient beings end their suffering through the elimination of ignorance and craving. Buddhists believe that this is accomplished through the direct understanding and perception of dependent origination and the Four Noble Truths.'}"
      ]
     },
     "execution_count": 8,
     "metadata": {},
     "output_type": "execute_result"
    }
   ],
   "source": [
    "squad_train['data'][title_of_interest[0][0]]['paragraphs'][0]"
   ]
  },
  {
   "cell_type": "markdown",
   "metadata": {},
   "source": [
    "### Organize the `data.csv` \n",
    "Below is the requirement for the finetune dataset from the instruction page.\n",
    ">Input: A directory containing a 'data.csv' file.\n",
    ">- The first column of the 'data.csv' should have a question.\n",
    ">- The second column should have the corresponding context.\n",
    ">- The third column should have the integer character starting position for the answer in the context.\n",
    ">- The fourth column should have the integer character ending position for the answer in the context.\n",
    "\n",
    "The following nested for loop will go through each context, question and answer."
   ]
  },
  {
   "cell_type": "code",
   "execution_count": 37,
   "metadata": {},
   "outputs": [],
   "source": [
    "rows = []\n",
    "for paragraph in squad_train['data'][title_of_interest[0][0]]['paragraphs']:\n",
    "    context = paragraph['context']\n",
    "    for qas in paragraph['qas']:\n",
    "        question = qas['question']\n",
    "        for answer in qas['answers']:\n",
    "            answer_text = answer['text']\n",
    "            answer_start = answer['answer_start']\n",
    "            answer_end = answer_start + len(answer_text) - 1\n",
    "            rows.append([question, context, answer_start, answer_end])"
   ]
  },
  {
   "cell_type": "markdown",
   "metadata": {},
   "source": [
    "Saving the `rows` into a csv"
   ]
  },
  {
   "cell_type": "code",
   "execution_count": 38,
   "metadata": {},
   "outputs": [],
   "source": [
    "import csv\n",
    "\n",
    "with open('data.csv', 'w', newline='') as f:\n",
    "    writer = csv.writer(f)\n",
    "    writer.writerows(rows)"
   ]
  },
  {
   "cell_type": "code",
   "execution_count": 39,
   "metadata": {},
   "outputs": [
    {
     "name": "stdout",
     "output_type": "stream",
     "text": [
      "What type of religion is Buddhism?,\"Buddhism /ˈbudɪzəm/ is a nontheistic religion[note 1] or philosophy (Sanskrit: धर्म dharma; Pali: धम्म dhamma) that encompasses a variety of traditions, beliefs and spiritual practices largely based on teachings attributed to Gautama Buddha, commonly known as the Buddha (\"\"the awakened one\"\"). According to Buddhist tradition, the Buddha lived and taught in the eastern part of the Indian subcontinent, present-day Nepal sometime between the 6th and 4th centuries BCE.[note 1] He is recognized by Buddhists as an awakened or enlightened teacher who shared his insights to help sentient beings end their suffering through the elimination of ignorance and craving. Buddhists believe that this is accomplished through the direct understanding and perception of dependent origination and the Four Noble Truths.\",25,35\n",
      "What are the practices of Buddhism based on?,\"Buddhism /ˈbudɪzəm/ is a nontheistic religion[note 1] or philosophy (Sanskrit: धर्म dharma; Pali: धम्म dhamma) that encompasses a variety of traditions, beliefs and spiritual practices largely based on teachings attributed to Gautama Buddha, commonly known as the Buddha (\"\"the awakened one\"\"). According to Buddhist tradition, the Buddha lived and taught in the eastern part of the Indian subcontinent, present-day Nepal sometime between the 6th and 4th centuries BCE.[note 1] He is recognized by Buddhists as an awakened or enlightened teacher who shared his insights to help sentient beings end their suffering through the elimination of ignorance and craving. Buddhists believe that this is accomplished through the direct understanding and perception of dependent origination and the Four Noble Truths.\",202,239\n"
     ]
    }
   ],
   "source": [
    "!head -n2 data.csv"
   ]
  },
  {
   "cell_type": "markdown",
   "metadata": {},
   "source": [
    "### Uploading the `data.csv` to a S3 bucket"
   ]
  },
  {
   "cell_type": "code",
   "execution_count": 40,
   "metadata": {},
   "outputs": [],
   "source": [
    "import sagemaker\n",
    "sess = sagemaker.Session()\n",
    "bucket = sess.default_bucket()"
   ]
  },
  {
   "cell_type": "code",
   "execution_count": 43,
   "metadata": {},
   "outputs": [
    {
     "data": {
      "text/plain": [
       "'s3://sagemaker-us-west-2-552106442228/sagemaker-studio-book/chapter08/buddhism/data.csv'"
      ]
     },
     "execution_count": 43,
     "metadata": {},
     "output_type": "execute_result"
    }
   ],
   "source": [
    "sagemaker.s3.S3Uploader.upload(local_path='data.csv',\n",
    "                               desired_s3_uri='s3://%s/sagemaker-studio-book/chapter08/buddhism' % bucket,\n",
    "                               sagemaker_session=sess)"
   ]
  },
  {
   "cell_type": "code",
   "execution_count": null,
   "metadata": {},
   "outputs": [],
   "source": []
  }
 ],
 "metadata": {
  "instance_type": "ml.t3.medium",
  "kernelspec": {
   "display_name": "Python 3 (Data Science)",
   "language": "python",
   "name": "python3__SAGEMAKER_INTERNAL__arn:aws:sagemaker:us-west-2:236514542706:image/datascience-1.0"
  },
  "language_info": {
   "codemirror_mode": {
    "name": "ipython",
    "version": 3
   },
   "file_extension": ".py",
   "mimetype": "text/x-python",
   "name": "python",
   "nbconvert_exporter": "python",
   "pygments_lexer": "ipython3",
   "version": "3.7.10"
  }
 },
 "nbformat": 4,
 "nbformat_minor": 4
}
