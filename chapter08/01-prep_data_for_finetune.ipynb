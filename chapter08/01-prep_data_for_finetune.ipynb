{
 "cells": [
  {
   "cell_type": "markdown",
   "metadata": {},
   "source": [
    "This notebook is developed using the `Python 3 (Data Science)` kernel on an `ml.t3.medium` instance.\n",
    "### Downloading SQuAD-v2 from source"
   ]
  },
  {
   "cell_type": "code",
   "execution_count": null,
   "metadata": {},
   "outputs": [],
   "source": [
    "import os\n",
    "import sagemaker\n",
    "sess = sagemaker.Session()\n",
    "bucket = sess.default_bucket()\n",
    "prefix = 'sagemaker-studio-book/chapter08'\n",
    "\n",
    "local_prefix='buddhism'\n",
    "os.makedirs(local_prefix, exist_ok=True)"
   ]
  },
  {
   "cell_type": "code",
   "execution_count": null,
   "metadata": {},
   "outputs": [],
   "source": [
    "!wget https://rajpurkar.github.io/SQuAD-explorer/dataset/train-v2.0.json -P {local_prefix}"
   ]
  },
  {
   "cell_type": "code",
   "execution_count": null,
   "metadata": {},
   "outputs": [],
   "source": [
    "import json\n",
    "with open(f'{local_prefix}/train-v2.0.json') as f:\n",
    "    squad_train = json.load(f)"
   ]
  },
  {
   "cell_type": "markdown",
   "metadata": {},
   "source": [
    "### Fine tune with questions related to Buddhism\n",
    "Extract Buddhism from titles"
   ]
  },
  {
   "cell_type": "code",
   "execution_count": null,
   "metadata": {},
   "outputs": [],
   "source": [
    "title_of_interest = [(i, j['title']) \n",
    "                     for i, j in enumerate(squad_train['data']) \n",
    "                     if j['title'] == 'Buddhism']"
   ]
  },
  {
   "cell_type": "code",
   "execution_count": null,
   "metadata": {},
   "outputs": [],
   "source": [
    "title_of_interest"
   ]
  },
  {
   "cell_type": "markdown",
   "metadata": {},
   "source": [
    "Buddhism is located at index 11. Take a look at the dictionary."
   ]
  },
  {
   "cell_type": "code",
   "execution_count": null,
   "metadata": {
    "scrolled": true
   },
   "outputs": [],
   "source": [
    "squad_train['data'][title_of_interest[0][0]]['paragraphs'][0]"
   ]
  },
  {
   "cell_type": "markdown",
   "metadata": {},
   "source": [
    "### Organize the `data.csv` \n",
    "Below is the requirement for the finetune dataset from the instruction page.\n",
    ">Input: A directory containing a 'data.csv' file.\n",
    ">- The first column of the 'data.csv' should have a question.\n",
    ">- The second column should have the corresponding context.\n",
    ">- The third column should have the integer character starting position for the answer in the context.\n",
    ">- The fourth column should have the integer character ending position for the answer in the context.\n",
    "\n",
    "The following nested for loop will go through each context, question and answer."
   ]
  },
  {
   "cell_type": "code",
   "execution_count": null,
   "metadata": {},
   "outputs": [],
   "source": [
    "rows = []\n",
    "for paragraph in squad_train['data'][title_of_interest[0][0]]['paragraphs']:\n",
    "    context = paragraph['context']\n",
    "    for qas in paragraph['qas']:\n",
    "        question = qas['question']\n",
    "        for answer in qas['answers']:\n",
    "            answer_text = answer['text']\n",
    "            answer_start = answer['answer_start']\n",
    "            answer_end = answer_start + len(answer_text) - 1\n",
    "            rows.append([question, context, answer_start, answer_end])"
   ]
  },
  {
   "cell_type": "markdown",
   "metadata": {},
   "source": [
    "Saving the `rows` into a csv"
   ]
  },
  {
   "cell_type": "code",
   "execution_count": null,
   "metadata": {},
   "outputs": [],
   "source": [
    "import csv\n",
    "\n",
    "with open(f'{local_prefix}/data.csv', 'w', newline='') as f:\n",
    "    writer = csv.writer(f)\n",
    "    writer.writerows(rows)"
   ]
  },
  {
   "cell_type": "code",
   "execution_count": null,
   "metadata": {},
   "outputs": [],
   "source": [
    "!head -n2 data.csv"
   ]
  },
  {
   "cell_type": "markdown",
   "metadata": {},
   "source": [
    "### Uploading the `data.csv` to a S3 bucket"
   ]
  },
  {
   "cell_type": "code",
   "execution_count": null,
   "metadata": {},
   "outputs": [],
   "source": [
    "sagemaker.s3.S3Uploader.upload(local_path=f'{local_prefix}/data.csv',\n",
    "                               desired_s3_uri=f's3://{bucket}/{prefix}/{local_prefix}',\n",
    "                               sagemaker_session=sess)"
   ]
  }
 ],
 "metadata": {
  "instance_type": "ml.t3.medium",
  "kernelspec": {
   "display_name": "Python 3 (Data Science)",
   "language": "python",
   "name": "python3__SAGEMAKER_INTERNAL__arn:aws:sagemaker:us-east-1:081325390199:image/datascience-1.0"
  },
  "language_info": {
   "codemirror_mode": {
    "name": "ipython",
    "version": 3
   },
   "file_extension": ".py",
   "mimetype": "text/x-python",
   "name": "python",
   "nbconvert_exporter": "python",
   "pygments_lexer": "ipython3",
   "version": "3.7.10"
  }
 },
 "nbformat": 4,
 "nbformat_minor": 4
}
