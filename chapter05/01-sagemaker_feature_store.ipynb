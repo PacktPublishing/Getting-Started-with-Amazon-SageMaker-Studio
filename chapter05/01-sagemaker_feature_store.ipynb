{
 "cells": [
  {
   "cell_type": "markdown",
   "metadata": {},
   "source": [
    "## Use case\n",
    "Auto-mpg data contains data of each car by years. With SM Feature Store, we can easily manage the features over years for each car. There are 56 cars that have records more than 1 year. We will create a feature store for the auto data, ingest the data of their first appearance, then update the feature store with new records by years. After the data is ingested, we show how to access data for training and inference purposes. And how to traverse over time to get feature point-in-time."
   ]
  },
  {
   "cell_type": "code",
   "execution_count": 15,
   "metadata": {},
   "outputs": [
    {
     "name": "stdout",
     "output_type": "stream",
     "text": [
      "2.49.1\n"
     ]
    }
   ],
   "source": [
    "# SageMaker Python SDK version 2.x is required\n",
    "import sagemaker\n",
    "import sys\n",
    "\n",
    "import boto3\n",
    "import pandas as pd\n",
    "import numpy as np\n",
    "import io\n",
    "import time\n",
    "from time import gmtime, strftime, sleep\n",
    "import datetime\n",
    "\n",
    "region = 'us-west-2'\n",
    "role = sagemaker.get_execution_role()\n",
    "sess = sagemaker.Session()\n",
    "bucket = sess.default_bucket()\n",
    "prefix = 'sagemaker-studio-book/chapter05'\n",
    "\n",
    "original_version = sagemaker.__version__\n",
    "print(original_version)"
   ]
  },
  {
   "cell_type": "code",
   "execution_count": 114,
   "metadata": {},
   "outputs": [
    {
     "data": {
      "text/plain": [
       "1630370909"
      ]
     },
     "execution_count": 114,
     "metadata": {},
     "output_type": "execute_result"
    }
   ],
   "source": [
    "print(int(round(time.time())))\n",
    "print()"
   ]
  },
  {
   "cell_type": "markdown",
   "metadata": {},
   "source": [
    "Importing data from UCI"
   ]
  },
  {
   "cell_type": "code",
   "execution_count": 2,
   "metadata": {},
   "outputs": [],
   "source": [
    "data_url='https://archive.ics.uci.edu/ml/machine-learning-databases/auto-mpg/auto-mpg.data'\n",
    "col_names=['mpg','cylinders', 'displacement', 'horsepower', 'weight', \n",
    "           'acceleration', 'model_year', 'origin', 'car_name']\n",
    "\n",
    "df=pd.read_csv(data_url, delimiter='\\s+', header=None, names=col_names, na_values='?')"
   ]
  },
  {
   "cell_type": "code",
   "execution_count": 46,
   "metadata": {},
   "outputs": [
    {
     "data": {
      "text/html": [
       "<div>\n",
       "<style scoped>\n",
       "    .dataframe tbody tr th:only-of-type {\n",
       "        vertical-align: middle;\n",
       "    }\n",
       "\n",
       "    .dataframe tbody tr th {\n",
       "        vertical-align: top;\n",
       "    }\n",
       "\n",
       "    .dataframe thead th {\n",
       "        text-align: right;\n",
       "    }\n",
       "</style>\n",
       "<table border=\"1\" class=\"dataframe\">\n",
       "  <thead>\n",
       "    <tr style=\"text-align: right;\">\n",
       "      <th></th>\n",
       "      <th>mpg</th>\n",
       "      <th>cylinders</th>\n",
       "      <th>displacement</th>\n",
       "      <th>horsepower</th>\n",
       "      <th>weight</th>\n",
       "      <th>acceleration</th>\n",
       "      <th>model_year</th>\n",
       "      <th>origin</th>\n",
       "      <th>car_name</th>\n",
       "    </tr>\n",
       "  </thead>\n",
       "  <tbody>\n",
       "    <tr>\n",
       "      <th>0</th>\n",
       "      <td>18.0</td>\n",
       "      <td>8</td>\n",
       "      <td>307.0</td>\n",
       "      <td>130.0</td>\n",
       "      <td>3504.0</td>\n",
       "      <td>12.0</td>\n",
       "      <td>70</td>\n",
       "      <td>1</td>\n",
       "      <td>chevrolet chevelle malibu</td>\n",
       "    </tr>\n",
       "    <tr>\n",
       "      <th>1</th>\n",
       "      <td>15.0</td>\n",
       "      <td>8</td>\n",
       "      <td>350.0</td>\n",
       "      <td>165.0</td>\n",
       "      <td>3693.0</td>\n",
       "      <td>11.5</td>\n",
       "      <td>70</td>\n",
       "      <td>1</td>\n",
       "      <td>buick skylark 320</td>\n",
       "    </tr>\n",
       "    <tr>\n",
       "      <th>2</th>\n",
       "      <td>18.0</td>\n",
       "      <td>8</td>\n",
       "      <td>318.0</td>\n",
       "      <td>150.0</td>\n",
       "      <td>3436.0</td>\n",
       "      <td>11.0</td>\n",
       "      <td>70</td>\n",
       "      <td>1</td>\n",
       "      <td>plymouth satellite</td>\n",
       "    </tr>\n",
       "    <tr>\n",
       "      <th>3</th>\n",
       "      <td>16.0</td>\n",
       "      <td>8</td>\n",
       "      <td>304.0</td>\n",
       "      <td>150.0</td>\n",
       "      <td>3433.0</td>\n",
       "      <td>12.0</td>\n",
       "      <td>70</td>\n",
       "      <td>1</td>\n",
       "      <td>amc rebel sst</td>\n",
       "    </tr>\n",
       "    <tr>\n",
       "      <th>4</th>\n",
       "      <td>17.0</td>\n",
       "      <td>8</td>\n",
       "      <td>302.0</td>\n",
       "      <td>140.0</td>\n",
       "      <td>3449.0</td>\n",
       "      <td>10.5</td>\n",
       "      <td>70</td>\n",
       "      <td>1</td>\n",
       "      <td>ford torino</td>\n",
       "    </tr>\n",
       "  </tbody>\n",
       "</table>\n",
       "</div>"
      ],
      "text/plain": [
       "    mpg  cylinders  displacement  horsepower  weight  acceleration  \\\n",
       "0  18.0          8         307.0       130.0  3504.0          12.0   \n",
       "1  15.0          8         350.0       165.0  3693.0          11.5   \n",
       "2  18.0          8         318.0       150.0  3436.0          11.0   \n",
       "3  16.0          8         304.0       150.0  3433.0          12.0   \n",
       "4  17.0          8         302.0       140.0  3449.0          10.5   \n",
       "\n",
       "   model_year  origin                   car_name  \n",
       "0          70       1  chevrolet chevelle malibu  \n",
       "1          70       1          buick skylark 320  \n",
       "2          70       1         plymouth satellite  \n",
       "3          70       1              amc rebel sst  \n",
       "4          70       1                ford torino  "
      ]
     },
     "execution_count": 46,
     "metadata": {},
     "output_type": "execute_result"
    }
   ],
   "source": [
    "df.head()"
   ]
  },
  {
   "cell_type": "code",
   "execution_count": 3,
   "metadata": {},
   "outputs": [
    {
     "data": {
      "text/html": [
       "<div>\n",
       "<style scoped>\n",
       "    .dataframe tbody tr th:only-of-type {\n",
       "        vertical-align: middle;\n",
       "    }\n",
       "\n",
       "    .dataframe tbody tr th {\n",
       "        vertical-align: top;\n",
       "    }\n",
       "\n",
       "    .dataframe thead th {\n",
       "        text-align: right;\n",
       "    }\n",
       "</style>\n",
       "<table border=\"1\" class=\"dataframe\">\n",
       "  <thead>\n",
       "    <tr style=\"text-align: right;\">\n",
       "      <th></th>\n",
       "      <th>mpg</th>\n",
       "      <th>cylinders</th>\n",
       "      <th>displacement</th>\n",
       "      <th>horsepower</th>\n",
       "      <th>weight</th>\n",
       "      <th>acceleration</th>\n",
       "      <th>model_year</th>\n",
       "      <th>origin</th>\n",
       "      <th>car_name</th>\n",
       "    </tr>\n",
       "  </thead>\n",
       "  <tbody>\n",
       "    <tr>\n",
       "      <th>96</th>\n",
       "      <td>13.0</td>\n",
       "      <td>8</td>\n",
       "      <td>360.0</td>\n",
       "      <td>175.0</td>\n",
       "      <td>3821.0</td>\n",
       "      <td>11.0</td>\n",
       "      <td>73</td>\n",
       "      <td>1</td>\n",
       "      <td>amc ambassador brougham</td>\n",
       "    </tr>\n",
       "    <tr>\n",
       "      <th>9</th>\n",
       "      <td>15.0</td>\n",
       "      <td>8</td>\n",
       "      <td>390.0</td>\n",
       "      <td>190.0</td>\n",
       "      <td>3850.0</td>\n",
       "      <td>8.5</td>\n",
       "      <td>70</td>\n",
       "      <td>1</td>\n",
       "      <td>amc ambassador dpl</td>\n",
       "    </tr>\n",
       "    <tr>\n",
       "      <th>66</th>\n",
       "      <td>17.0</td>\n",
       "      <td>8</td>\n",
       "      <td>304.0</td>\n",
       "      <td>150.0</td>\n",
       "      <td>3672.0</td>\n",
       "      <td>11.5</td>\n",
       "      <td>72</td>\n",
       "      <td>1</td>\n",
       "      <td>amc ambassador sst</td>\n",
       "    </tr>\n",
       "    <tr>\n",
       "      <th>257</th>\n",
       "      <td>19.4</td>\n",
       "      <td>6</td>\n",
       "      <td>232.0</td>\n",
       "      <td>90.0</td>\n",
       "      <td>3210.0</td>\n",
       "      <td>17.2</td>\n",
       "      <td>78</td>\n",
       "      <td>1</td>\n",
       "      <td>amc concord</td>\n",
       "    </tr>\n",
       "    <tr>\n",
       "      <th>315</th>\n",
       "      <td>24.3</td>\n",
       "      <td>4</td>\n",
       "      <td>151.0</td>\n",
       "      <td>90.0</td>\n",
       "      <td>3003.0</td>\n",
       "      <td>20.1</td>\n",
       "      <td>80</td>\n",
       "      <td>1</td>\n",
       "      <td>amc concord</td>\n",
       "    </tr>\n",
       "    <tr>\n",
       "      <th>...</th>\n",
       "      <td>...</td>\n",
       "      <td>...</td>\n",
       "      <td>...</td>\n",
       "      <td>...</td>\n",
       "      <td>...</td>\n",
       "      <td>...</td>\n",
       "      <td>...</td>\n",
       "      <td>...</td>\n",
       "      <td>...</td>\n",
       "    </tr>\n",
       "    <tr>\n",
       "      <th>394</th>\n",
       "      <td>44.0</td>\n",
       "      <td>4</td>\n",
       "      <td>97.0</td>\n",
       "      <td>52.0</td>\n",
       "      <td>2130.0</td>\n",
       "      <td>24.6</td>\n",
       "      <td>82</td>\n",
       "      <td>2</td>\n",
       "      <td>vw pickup</td>\n",
       "    </tr>\n",
       "    <tr>\n",
       "      <th>197</th>\n",
       "      <td>29.0</td>\n",
       "      <td>4</td>\n",
       "      <td>90.0</td>\n",
       "      <td>70.0</td>\n",
       "      <td>1937.0</td>\n",
       "      <td>14.2</td>\n",
       "      <td>76</td>\n",
       "      <td>2</td>\n",
       "      <td>vw rabbit</td>\n",
       "    </tr>\n",
       "    <tr>\n",
       "      <th>309</th>\n",
       "      <td>41.5</td>\n",
       "      <td>4</td>\n",
       "      <td>98.0</td>\n",
       "      <td>76.0</td>\n",
       "      <td>2144.0</td>\n",
       "      <td>14.7</td>\n",
       "      <td>80</td>\n",
       "      <td>2</td>\n",
       "      <td>vw rabbit</td>\n",
       "    </tr>\n",
       "    <tr>\n",
       "      <th>325</th>\n",
       "      <td>44.3</td>\n",
       "      <td>4</td>\n",
       "      <td>90.0</td>\n",
       "      <td>48.0</td>\n",
       "      <td>2085.0</td>\n",
       "      <td>21.7</td>\n",
       "      <td>80</td>\n",
       "      <td>2</td>\n",
       "      <td>vw rabbit c (diesel)</td>\n",
       "    </tr>\n",
       "    <tr>\n",
       "      <th>293</th>\n",
       "      <td>31.9</td>\n",
       "      <td>4</td>\n",
       "      <td>89.0</td>\n",
       "      <td>71.0</td>\n",
       "      <td>1925.0</td>\n",
       "      <td>14.0</td>\n",
       "      <td>79</td>\n",
       "      <td>2</td>\n",
       "      <td>vw rabbit custom</td>\n",
       "    </tr>\n",
       "  </tbody>\n",
       "</table>\n",
       "<p>398 rows × 9 columns</p>\n",
       "</div>"
      ],
      "text/plain": [
       "      mpg  cylinders  displacement  horsepower  weight  acceleration  \\\n",
       "96   13.0          8         360.0       175.0  3821.0          11.0   \n",
       "9    15.0          8         390.0       190.0  3850.0           8.5   \n",
       "66   17.0          8         304.0       150.0  3672.0          11.5   \n",
       "257  19.4          6         232.0        90.0  3210.0          17.2   \n",
       "315  24.3          4         151.0        90.0  3003.0          20.1   \n",
       "..    ...        ...           ...         ...     ...           ...   \n",
       "394  44.0          4          97.0        52.0  2130.0          24.6   \n",
       "197  29.0          4          90.0        70.0  1937.0          14.2   \n",
       "309  41.5          4          98.0        76.0  2144.0          14.7   \n",
       "325  44.3          4          90.0        48.0  2085.0          21.7   \n",
       "293  31.9          4          89.0        71.0  1925.0          14.0   \n",
       "\n",
       "     model_year  origin                 car_name  \n",
       "96           73       1  amc ambassador brougham  \n",
       "9            70       1       amc ambassador dpl  \n",
       "66           72       1       amc ambassador sst  \n",
       "257          78       1              amc concord  \n",
       "315          80       1              amc concord  \n",
       "..          ...     ...                      ...  \n",
       "394          82       2                vw pickup  \n",
       "197          76       2                vw rabbit  \n",
       "309          80       2                vw rabbit  \n",
       "325          80       2     vw rabbit c (diesel)  \n",
       "293          79       2         vw rabbit custom  \n",
       "\n",
       "[398 rows x 9 columns]"
      ]
     },
     "execution_count": 3,
     "metadata": {},
     "output_type": "execute_result"
    }
   ],
   "source": [
    "df.sort_values(by=['car_name', 'model_year'])"
   ]
  },
  {
   "cell_type": "code",
   "execution_count": 4,
   "metadata": {},
   "outputs": [],
   "source": [
    "df['car_name']=df['car_name'].astype('string')"
   ]
  },
  {
   "cell_type": "code",
   "execution_count": 25,
   "metadata": {},
   "outputs": [
    {
     "data": {
      "text/plain": [
       "28800.0"
      ]
     },
     "execution_count": 25,
     "metadata": {},
     "output_type": "execute_result"
    }
   ],
   "source": [
    "import datetime\n",
    "datetime.datetime(1970,1,1,8,0,0).timestamp()"
   ]
  },
  {
   "cell_type": "code",
   "execution_count": 41,
   "metadata": {},
   "outputs": [
    {
     "name": "stdout",
     "output_type": "stream",
     "text": [
      "70\n",
      "(29, 10)\n",
      "71\n",
      "(28, 10)\n",
      "72\n",
      "(28, 10)\n",
      "73\n",
      "(40, 10)\n",
      "74\n",
      "(27, 10)\n",
      "75\n",
      "(30, 10)\n",
      "76\n",
      "(34, 10)\n",
      "77\n",
      "(28, 10)\n",
      "78\n",
      "(36, 10)\n",
      "79\n",
      "(29, 10)\n",
      "80\n",
      "(29, 10)\n",
      "81\n",
      "(29, 10)\n",
      "82\n",
      "(31, 10)\n"
     ]
    },
    {
     "name": "stderr",
     "output_type": "stream",
     "text": [
      "/opt/conda/lib/python3.7/site-packages/ipykernel_launcher.py:6: SettingWithCopyWarning: \n",
      "A value is trying to be set on a copy of a slice from a DataFrame.\n",
      "Try using .loc[row_indexer,col_indexer] = value instead\n",
      "\n",
      "See the caveats in the documentation: https://pandas.pydata.org/pandas-docs/stable/user_guide/indexing.html#returning-a-view-versus-a-copy\n",
      "  \n"
     ]
    }
   ],
   "source": [
    "# data frames by years\n",
    "d_df = {}\n",
    "for yr in df['model_year'].unique():\n",
    "    print(yr)\n",
    "    d_df[str(yr)]=df[df['model_year']==yr]\n",
    "    d_df[str(yr)]['event_time']=datetime.datetime(1900+yr, 1, 1, 8, 0, 0).timestamp()\n",
    "#     print(d_df[str(yr)].shape)"
   ]
  },
  {
   "cell_type": "code",
   "execution_count": 42,
   "metadata": {},
   "outputs": [
    {
     "data": {
      "text/html": [
       "<div>\n",
       "<style scoped>\n",
       "    .dataframe tbody tr th:only-of-type {\n",
       "        vertical-align: middle;\n",
       "    }\n",
       "\n",
       "    .dataframe tbody tr th {\n",
       "        vertical-align: top;\n",
       "    }\n",
       "\n",
       "    .dataframe thead th {\n",
       "        text-align: right;\n",
       "    }\n",
       "</style>\n",
       "<table border=\"1\" class=\"dataframe\">\n",
       "  <thead>\n",
       "    <tr style=\"text-align: right;\">\n",
       "      <th></th>\n",
       "      <th>mpg</th>\n",
       "      <th>cylinders</th>\n",
       "      <th>displacement</th>\n",
       "      <th>horsepower</th>\n",
       "      <th>weight</th>\n",
       "      <th>acceleration</th>\n",
       "      <th>model_year</th>\n",
       "      <th>origin</th>\n",
       "      <th>car_name</th>\n",
       "      <th>event_time</th>\n",
       "    </tr>\n",
       "  </thead>\n",
       "  <tbody>\n",
       "    <tr>\n",
       "      <th>0</th>\n",
       "      <td>18.0</td>\n",
       "      <td>8</td>\n",
       "      <td>307.0</td>\n",
       "      <td>130.0</td>\n",
       "      <td>3504.0</td>\n",
       "      <td>12.0</td>\n",
       "      <td>70</td>\n",
       "      <td>1</td>\n",
       "      <td>chevrolet chevelle malibu</td>\n",
       "      <td>28800.0</td>\n",
       "    </tr>\n",
       "    <tr>\n",
       "      <th>1</th>\n",
       "      <td>15.0</td>\n",
       "      <td>8</td>\n",
       "      <td>350.0</td>\n",
       "      <td>165.0</td>\n",
       "      <td>3693.0</td>\n",
       "      <td>11.5</td>\n",
       "      <td>70</td>\n",
       "      <td>1</td>\n",
       "      <td>buick skylark 320</td>\n",
       "      <td>28800.0</td>\n",
       "    </tr>\n",
       "    <tr>\n",
       "      <th>2</th>\n",
       "      <td>18.0</td>\n",
       "      <td>8</td>\n",
       "      <td>318.0</td>\n",
       "      <td>150.0</td>\n",
       "      <td>3436.0</td>\n",
       "      <td>11.0</td>\n",
       "      <td>70</td>\n",
       "      <td>1</td>\n",
       "      <td>plymouth satellite</td>\n",
       "      <td>28800.0</td>\n",
       "    </tr>\n",
       "    <tr>\n",
       "      <th>3</th>\n",
       "      <td>16.0</td>\n",
       "      <td>8</td>\n",
       "      <td>304.0</td>\n",
       "      <td>150.0</td>\n",
       "      <td>3433.0</td>\n",
       "      <td>12.0</td>\n",
       "      <td>70</td>\n",
       "      <td>1</td>\n",
       "      <td>amc rebel sst</td>\n",
       "      <td>28800.0</td>\n",
       "    </tr>\n",
       "    <tr>\n",
       "      <th>4</th>\n",
       "      <td>17.0</td>\n",
       "      <td>8</td>\n",
       "      <td>302.0</td>\n",
       "      <td>140.0</td>\n",
       "      <td>3449.0</td>\n",
       "      <td>10.5</td>\n",
       "      <td>70</td>\n",
       "      <td>1</td>\n",
       "      <td>ford torino</td>\n",
       "      <td>28800.0</td>\n",
       "    </tr>\n",
       "  </tbody>\n",
       "</table>\n",
       "</div>"
      ],
      "text/plain": [
       "    mpg  cylinders  displacement  horsepower  weight  acceleration  \\\n",
       "0  18.0          8         307.0       130.0  3504.0          12.0   \n",
       "1  15.0          8         350.0       165.0  3693.0          11.5   \n",
       "2  18.0          8         318.0       150.0  3436.0          11.0   \n",
       "3  16.0          8         304.0       150.0  3433.0          12.0   \n",
       "4  17.0          8         302.0       140.0  3449.0          10.5   \n",
       "\n",
       "   model_year  origin                   car_name  event_time  \n",
       "0          70       1  chevrolet chevelle malibu     28800.0  \n",
       "1          70       1          buick skylark 320     28800.0  \n",
       "2          70       1         plymouth satellite     28800.0  \n",
       "3          70       1              amc rebel sst     28800.0  \n",
       "4          70       1                ford torino     28800.0  "
      ]
     },
     "execution_count": 42,
     "metadata": {},
     "output_type": "execute_result"
    }
   ],
   "source": [
    "d_df['70'].head()"
   ]
  },
  {
   "cell_type": "markdown",
   "metadata": {},
   "source": [
    "## Create a feature group\n",
    "We first start by creating feature group names for the auto-mpg data."
   ]
  },
  {
   "cell_type": "code",
   "execution_count": 43,
   "metadata": {},
   "outputs": [],
   "source": [
    "timestamp=strftime('%Y-%m-%d-%H-%M-%S', gmtime())\n",
    "\n",
    "feature_group_name = 'auto-mpg-%s' % timestamp"
   ]
  },
  {
   "cell_type": "code",
   "execution_count": 44,
   "metadata": {},
   "outputs": [],
   "source": [
    "from sagemaker.feature_store.feature_group import FeatureGroup\n",
    "\n",
    "feature_group = FeatureGroup(\n",
    "    name=feature_group_name, sagemaker_session=sess\n",
    ")"
   ]
  },
  {
   "cell_type": "code",
   "execution_count": 45,
   "metadata": {},
   "outputs": [],
   "source": [
    "record_identifier_feature_name = 'car_name'\n",
    "event_time_feature_name = 'event_time'"
   ]
  },
  {
   "cell_type": "code",
   "execution_count": 46,
   "metadata": {},
   "outputs": [
    {
     "data": {
      "text/plain": [
       "[FeatureDefinition(feature_name='mpg', feature_type=<FeatureTypeEnum.FRACTIONAL: 'Fractional'>),\n",
       " FeatureDefinition(feature_name='cylinders', feature_type=<FeatureTypeEnum.INTEGRAL: 'Integral'>),\n",
       " FeatureDefinition(feature_name='displacement', feature_type=<FeatureTypeEnum.FRACTIONAL: 'Fractional'>),\n",
       " FeatureDefinition(feature_name='horsepower', feature_type=<FeatureTypeEnum.FRACTIONAL: 'Fractional'>),\n",
       " FeatureDefinition(feature_name='weight', feature_type=<FeatureTypeEnum.FRACTIONAL: 'Fractional'>),\n",
       " FeatureDefinition(feature_name='acceleration', feature_type=<FeatureTypeEnum.FRACTIONAL: 'Fractional'>),\n",
       " FeatureDefinition(feature_name='model_year', feature_type=<FeatureTypeEnum.INTEGRAL: 'Integral'>),\n",
       " FeatureDefinition(feature_name='origin', feature_type=<FeatureTypeEnum.INTEGRAL: 'Integral'>),\n",
       " FeatureDefinition(feature_name='car_name', feature_type=<FeatureTypeEnum.STRING: 'String'>),\n",
       " FeatureDefinition(feature_name='event_time', feature_type=<FeatureTypeEnum.FRACTIONAL: 'Fractional'>)]"
      ]
     },
     "execution_count": 46,
     "metadata": {},
     "output_type": "execute_result"
    }
   ],
   "source": [
    "feature_group.load_feature_definitions(data_frame=d_df['70'])"
   ]
  },
  {
   "cell_type": "code",
   "execution_count": 47,
   "metadata": {},
   "outputs": [
    {
     "data": {
      "text/plain": [
       "100"
      ]
     },
     "execution_count": 47,
     "metadata": {},
     "output_type": "execute_result"
    }
   ],
   "source": [
    "description='This feature group tracks the vehicle information such as mpg, and horsepower between 1970 and 1982.'\n",
    "len(description)\n",
    "# description has to be less than 128 characters"
   ]
  },
  {
   "cell_type": "code",
   "execution_count": 48,
   "metadata": {},
   "outputs": [
    {
     "data": {
      "text/plain": [
       "{'FeatureGroupArn': 'arn:aws:sagemaker:us-west-2:552106442228:feature-group/auto-mpg-2021-08-24-00-23-45',\n",
       " 'ResponseMetadata': {'RequestId': '7be71ee4-2fc3-4e4b-8778-4cb5896d6fd5',\n",
       "  'HTTPStatusCode': 200,\n",
       "  'HTTPHeaders': {'x-amzn-requestid': '7be71ee4-2fc3-4e4b-8778-4cb5896d6fd5',\n",
       "   'content-type': 'application/x-amz-json-1.1',\n",
       "   'content-length': '105',\n",
       "   'date': 'Tue, 24 Aug 2021 00:23:57 GMT'},\n",
       "  'RetryAttempts': 0}}"
      ]
     },
     "execution_count": 48,
     "metadata": {},
     "output_type": "execute_result"
    }
   ],
   "source": [
    "feature_group.create(\n",
    "    s3_uri=f's3://{bucket}/{prefix}',\n",
    "    enable_online_store=True,\n",
    "    record_identifier_name=record_identifier_feature_name,\n",
    "    event_time_feature_name=event_time_feature_name,\n",
    "    description=description,\n",
    "    role_arn=role\n",
    ")"
   ]
  },
  {
   "cell_type": "code",
   "execution_count": 50,
   "metadata": {},
   "outputs": [
    {
     "name": "stdout",
     "output_type": "stream",
     "text": [
      "Waiting for Feature Group to be Created\n",
      "Waiting for Feature Group to be Created\n",
      "Waiting for Feature Group to be Created\n",
      "Waiting for Feature Group to be Created\n",
      "Waiting for Feature Group to be Created\n",
      "Waiting for Feature Group to be Created\n",
      "Waiting for Feature Group to be Created\n",
      "Waiting for Feature Group to be Created\n",
      "Waiting for Feature Group to be Created\n",
      "FeatureGroup auto-mpg-2021-08-24-00-23-45 successfully created.\n"
     ]
    }
   ],
   "source": [
    "def check_feature_group_status(feature_group):\n",
    "    status = feature_group.describe().get(\"FeatureGroupStatus\")\n",
    "    while status == \"Creating\":\n",
    "        print(\"Waiting for Feature Group to be Created\")\n",
    "        time.sleep(5)\n",
    "        status = feature_group.describe().get(\"FeatureGroupStatus\")\n",
    "    print(f\"FeatureGroup {feature_group.name} successfully created.\")\n",
    "\n",
    "check_feature_group_status(feature_group)"
   ]
  },
  {
   "cell_type": "code",
   "execution_count": 33,
   "metadata": {},
   "outputs": [],
   "source": [
    "# feature_group.delete()"
   ]
  },
  {
   "cell_type": "markdown",
   "metadata": {},
   "source": [
    "## Ingest data into a feature group"
   ]
  },
  {
   "cell_type": "code",
   "execution_count": 51,
   "metadata": {},
   "outputs": [
    {
     "name": "stdout",
     "output_type": "stream",
     "text": [
      "70\n",
      "(29, 10)\n",
      "71\n",
      "(28, 10)\n",
      "72\n",
      "(28, 10)\n",
      "73\n",
      "(40, 10)\n",
      "74\n",
      "(27, 10)\n",
      "75\n",
      "(30, 10)\n",
      "76\n",
      "(34, 10)\n",
      "77\n",
      "(28, 10)\n",
      "78\n",
      "(36, 10)\n",
      "79\n",
      "(29, 10)\n",
      "80\n",
      "(29, 10)\n",
      "81\n",
      "(29, 10)\n",
      "82\n",
      "(31, 10)\n"
     ]
    }
   ],
   "source": [
    "for yr, df_auto in d_df.items():\n",
    "    print(yr)\n",
    "    print(df_auto.shape)\n",
    "    feature_group.ingest(data_frame=df_auto, max_workers=1, max_processes = 1, wait=True)"
   ]
  },
  {
   "cell_type": "code",
   "execution_count": 115,
   "metadata": {},
   "outputs": [],
   "source": [
    "car_name = 'amc concord'\n",
    "featurestore_runtime =  sess.boto_session.client(service_name='sagemaker-featurestore-runtime', \n",
    "                                                 region_name=region)\n",
    "sample_record = featurestore_runtime.get_record(\n",
    "    FeatureGroupName=feature_group_name, RecordIdentifierValueAsString=car_name\n",
    ")"
   ]
  },
  {
   "cell_type": "code",
   "execution_count": 116,
   "metadata": {},
   "outputs": [
    {
     "data": {
      "text/plain": [
       "{'ResponseMetadata': {'RequestId': '188e0ae6-a70b-4ebc-b116-dd4c810790ba',\n",
       "  'HTTPStatusCode': 200,\n",
       "  'HTTPHeaders': {'x-amzn-requestid': '188e0ae6-a70b-4ebc-b116-dd4c810790ba',\n",
       "   'content-type': 'application/json',\n",
       "   'content-length': '527',\n",
       "   'date': 'Tue, 31 Aug 2021 00:58:24 GMT'},\n",
       "  'RetryAttempts': 0},\n",
       " 'Record': [{'FeatureName': 'mpg', 'ValueAsString': '24.3'},\n",
       "  {'FeatureName': 'cylinders', 'ValueAsString': '4'},\n",
       "  {'FeatureName': 'displacement', 'ValueAsString': '151.0'},\n",
       "  {'FeatureName': 'horsepower', 'ValueAsString': '90.0'},\n",
       "  {'FeatureName': 'weight', 'ValueAsString': '3003.0'},\n",
       "  {'FeatureName': 'acceleration', 'ValueAsString': '20.1'},\n",
       "  {'FeatureName': 'model_year', 'ValueAsString': '80'},\n",
       "  {'FeatureName': 'origin', 'ValueAsString': '1'},\n",
       "  {'FeatureName': 'car_name', 'ValueAsString': 'amc concord'},\n",
       "  {'FeatureName': 'event_time', 'ValueAsString': '315561600.0'}]}"
      ]
     },
     "execution_count": 116,
     "metadata": {},
     "output_type": "execute_result"
    }
   ],
   "source": [
    "sample_record"
   ]
  },
  {
   "cell_type": "code",
   "execution_count": null,
   "metadata": {},
   "outputs": [],
   "source": [
    "record = [{'FeatureName': 'mpg', \n",
    "           'ValueAsString': str(mpg)},\n",
    "          {'FeatureName':'cylinders', \n",
    "           'ValueAsString': str(cylinders)},\n",
    "          {'FeatureName':'displacement', \n",
    "           'ValueAsString': str(displacement)}, \n",
    "          {'FeatureName': 'horsepower', \n",
    "           'ValueAsString': str(horseposwer)},\n",
    "          {'FeatureName': 'weight', \n",
    "           'ValueAsString': str(weight)},\n",
    "          {'FeatureName': 'acceleration', \n",
    "           'ValueAsString': str(acceleration)},\n",
    "          {'FeatureName': 'model_year', \n",
    "           'ValueAsString': str(model_year)},\n",
    "          {'FeatureName': 'origin', \n",
    "           'ValueAsString': str(origin)},\n",
    "          {'FeatureName': 'car_name', \n",
    "           'ValueAsString': str(car_name)},\n",
    "          {'FeatureName': 'event_time', \n",
    "           'ValueAsString': str(int(round(time.time())))}]\n",
    "featurestore_runtime.put_record(FeatureGroupName=feature_group_name, \n",
    "                                Record=record)"
   ]
  },
  {
   "cell_type": "markdown",
   "metadata": {},
   "source": [
    "## Build training dataset"
   ]
  },
  {
   "cell_type": "markdown",
   "metadata": {},
   "source": [
    "```python\n",
    "def get_df_from_query(feature_group, query_string):\n",
    "    query = feature_group.athena_query()\n",
    "    \n",
    "    print('Running ' + query_string)\n",
    "    \n",
    "    query.run(\n",
    "        query_string=query_string,\n",
    "        output_location=f's3://{bucket}/{prefix}/query_results/')\n",
    "    query.wait()\n",
    "    dataset = query.as_dataframe()\n",
    "    return dataset\n",
    "```"
   ]
  },
  {
   "cell_type": "code",
   "execution_count": 120,
   "metadata": {},
   "outputs": [
    {
     "name": "stdout",
     "output_type": "stream",
     "text": [
      "Running SELECT * FROM \"auto-mpg-2021-08-24-00-23-45-1629764637\"\n"
     ]
    }
   ],
   "source": [
    "query = feature_group.athena_query()\n",
    "table_name = query.table_name\n",
    "\n",
    "query_string = ('SELECT * FROM \"%s\"' % table_name)\n",
    "print('Running ' + query_string)\n",
    "\n",
    "query.run(\n",
    "        query_string=query_string,\n",
    "        output_location=f's3://{bucket}/{prefix}/query_results/')\n",
    "query.wait()\n",
    "dataset = query.as_dataframe()"
   ]
  },
  {
   "cell_type": "code",
   "execution_count": 121,
   "metadata": {},
   "outputs": [
    {
     "data": {
      "text/html": [
       "<div>\n",
       "<style scoped>\n",
       "    .dataframe tbody tr th:only-of-type {\n",
       "        vertical-align: middle;\n",
       "    }\n",
       "\n",
       "    .dataframe tbody tr th {\n",
       "        vertical-align: top;\n",
       "    }\n",
       "\n",
       "    .dataframe thead th {\n",
       "        text-align: right;\n",
       "    }\n",
       "</style>\n",
       "<table border=\"1\" class=\"dataframe\">\n",
       "  <thead>\n",
       "    <tr style=\"text-align: right;\">\n",
       "      <th></th>\n",
       "      <th>mpg</th>\n",
       "      <th>cylinders</th>\n",
       "      <th>displacement</th>\n",
       "      <th>horsepower</th>\n",
       "      <th>weight</th>\n",
       "      <th>acceleration</th>\n",
       "      <th>model_year</th>\n",
       "      <th>origin</th>\n",
       "      <th>car_name</th>\n",
       "      <th>event_time</th>\n",
       "      <th>write_time</th>\n",
       "      <th>api_invocation_time</th>\n",
       "      <th>is_deleted</th>\n",
       "    </tr>\n",
       "  </thead>\n",
       "  <tbody>\n",
       "    <tr>\n",
       "      <th>0</th>\n",
       "      <td>17.5</td>\n",
       "      <td>8</td>\n",
       "      <td>305.0</td>\n",
       "      <td>145.0</td>\n",
       "      <td>3880.0</td>\n",
       "      <td>12.5</td>\n",
       "      <td>77</td>\n",
       "      <td>1</td>\n",
       "      <td>chevrolet caprice classic</td>\n",
       "      <td>220953600.0</td>\n",
       "      <td>2021-08-24 00:31:05.583</td>\n",
       "      <td>2021-08-24 00:24:59.000</td>\n",
       "      <td>False</td>\n",
       "    </tr>\n",
       "    <tr>\n",
       "      <th>1</th>\n",
       "      <td>26.0</td>\n",
       "      <td>4</td>\n",
       "      <td>97.0</td>\n",
       "      <td>75.0</td>\n",
       "      <td>2265.0</td>\n",
       "      <td>18.2</td>\n",
       "      <td>77</td>\n",
       "      <td>3</td>\n",
       "      <td>toyota corolla liftback</td>\n",
       "      <td>220953600.0</td>\n",
       "      <td>2021-08-24 00:31:05.583</td>\n",
       "      <td>2021-08-24 00:24:59.000</td>\n",
       "      <td>False</td>\n",
       "    </tr>\n",
       "    <tr>\n",
       "      <th>2</th>\n",
       "      <td>31.0</td>\n",
       "      <td>4</td>\n",
       "      <td>79.0</td>\n",
       "      <td>67.0</td>\n",
       "      <td>1950.0</td>\n",
       "      <td>19.0</td>\n",
       "      <td>74</td>\n",
       "      <td>3</td>\n",
       "      <td>datsun b210</td>\n",
       "      <td>126259200.0</td>\n",
       "      <td>2021-08-24 00:31:04.989</td>\n",
       "      <td>2021-08-24 00:24:56.000</td>\n",
       "      <td>False</td>\n",
       "    </tr>\n",
       "    <tr>\n",
       "      <th>3</th>\n",
       "      <td>26.0</td>\n",
       "      <td>4</td>\n",
       "      <td>98.0</td>\n",
       "      <td>79.0</td>\n",
       "      <td>2255.0</td>\n",
       "      <td>17.7</td>\n",
       "      <td>76</td>\n",
       "      <td>1</td>\n",
       "      <td>dodge colt</td>\n",
       "      <td>189331200.0</td>\n",
       "      <td>2021-08-24 00:31:04.603</td>\n",
       "      <td>2021-08-24 00:24:58.000</td>\n",
       "      <td>False</td>\n",
       "    </tr>\n",
       "    <tr>\n",
       "      <th>4</th>\n",
       "      <td>34.2</td>\n",
       "      <td>4</td>\n",
       "      <td>105.0</td>\n",
       "      <td>70.0</td>\n",
       "      <td>2200.0</td>\n",
       "      <td>13.2</td>\n",
       "      <td>79</td>\n",
       "      <td>1</td>\n",
       "      <td>plymouth horizon</td>\n",
       "      <td>284025600.0</td>\n",
       "      <td>2021-08-24 00:30:59.000</td>\n",
       "      <td>2021-08-24 00:25:02.000</td>\n",
       "      <td>False</td>\n",
       "    </tr>\n",
       "  </tbody>\n",
       "</table>\n",
       "</div>"
      ],
      "text/plain": [
       "    mpg  cylinders  displacement  horsepower  weight  acceleration  \\\n",
       "0  17.5          8         305.0       145.0  3880.0          12.5   \n",
       "1  26.0          4          97.0        75.0  2265.0          18.2   \n",
       "2  31.0          4          79.0        67.0  1950.0          19.0   \n",
       "3  26.0          4          98.0        79.0  2255.0          17.7   \n",
       "4  34.2          4         105.0        70.0  2200.0          13.2   \n",
       "\n",
       "   model_year  origin                   car_name   event_time  \\\n",
       "0          77       1  chevrolet caprice classic  220953600.0   \n",
       "1          77       3    toyota corolla liftback  220953600.0   \n",
       "2          74       3                datsun b210  126259200.0   \n",
       "3          76       1                 dodge colt  189331200.0   \n",
       "4          79       1           plymouth horizon  284025600.0   \n",
       "\n",
       "                write_time      api_invocation_time  is_deleted  \n",
       "0  2021-08-24 00:31:05.583  2021-08-24 00:24:59.000       False  \n",
       "1  2021-08-24 00:31:05.583  2021-08-24 00:24:59.000       False  \n",
       "2  2021-08-24 00:31:04.989  2021-08-24 00:24:56.000       False  \n",
       "3  2021-08-24 00:31:04.603  2021-08-24 00:24:58.000       False  \n",
       "4  2021-08-24 00:30:59.000  2021-08-24 00:25:02.000       False  "
      ]
     },
     "execution_count": 121,
     "metadata": {},
     "output_type": "execute_result"
    }
   ],
   "source": [
    "dataset.head()"
   ]
  },
  {
   "cell_type": "code",
   "execution_count": 123,
   "metadata": {},
   "outputs": [
    {
     "data": {
      "text/plain": [
       "(398, 9)"
      ]
     },
     "execution_count": 123,
     "metadata": {},
     "output_type": "execute_result"
    }
   ],
   "source": [
    "df.shape"
   ]
  },
  {
   "cell_type": "code",
   "execution_count": 122,
   "metadata": {},
   "outputs": [
    {
     "data": {
      "text/plain": [
       "(398, 13)"
      ]
     },
     "execution_count": 122,
     "metadata": {},
     "output_type": "execute_result"
    }
   ],
   "source": [
    "dataset.shape"
   ]
  },
  {
   "cell_type": "code",
   "execution_count": 141,
   "metadata": {},
   "outputs": [
    {
     "name": "stdout",
     "output_type": "stream",
     "text": [
      "Running \n",
      "SELECT * FROM \"auto-mpg-2021-08-24-00-23-45-1629764637\" WHERE model_year < 79\n",
      "\n"
     ]
    }
   ],
   "source": [
    "query_string_2 = '''\n",
    "SELECT * FROM \"%s\" WHERE model_year < 79\n",
    "''' % table_name\n",
    "print('Running ' + query_string_2)\n",
    "\n",
    "query.run(\n",
    "        query_string=query_string_2,\n",
    "        output_location=f's3://{bucket}/{prefix}/query_results/')\n",
    "query.wait()\n",
    "dataset_2 = query.as_dataframe()"
   ]
  },
  {
   "cell_type": "code",
   "execution_count": 130,
   "metadata": {},
   "outputs": [
    {
     "data": {
      "text/plain": [
       "AthenaQuery(catalog='AwsDataCatalog', database='sagemaker_featurestore', table_name='auto-mpg-2021-08-24-00-23-45-1629764637', sagemaker_session=<sagemaker.session.Session object at 0x7f2bbc351450>, _current_query_execution_id='78f69ce7-e492-42bc-a4ac-1eb4dcaf17e5', _result_bucket='sagemaker-us-west-2-552106442228', _result_file_prefix='sagemaker-studio-book/chapter05/query_results')"
      ]
     },
     "execution_count": 130,
     "metadata": {},
     "output_type": "execute_result"
    }
   ],
   "source": [
    "query"
   ]
  },
  {
   "cell_type": "code",
   "execution_count": 128,
   "metadata": {},
   "outputs": [
    {
     "data": {
      "text/plain": [
       "AthenaQuery(catalog='AwsDataCatalog', database='sagemaker_featurestore', table_name='auto-mpg-2021-08-24-00-23-45-1629764637', sagemaker_session=<sagemaker.session.Session object at 0x7f2bbc351450>, _current_query_execution_id='06b39bea-c2a0-4c96-bad5-f850f1d739f4', _result_bucket='sagemaker-us-west-2-552106442228', _result_file_prefix='sagemaker-studio-book/chapter05/query_results')"
      ]
     },
     "execution_count": 128,
     "metadata": {},
     "output_type": "execute_result"
    }
   ],
   "source": [
    "query"
   ]
  },
  {
   "cell_type": "code",
   "execution_count": 142,
   "metadata": {},
   "outputs": [
    {
     "data": {
      "text/plain": [
       "(280, 13)"
      ]
     },
     "execution_count": 142,
     "metadata": {},
     "output_type": "execute_result"
    }
   ],
   "source": [
    "dataset_2.shape"
   ]
  },
  {
   "cell_type": "code",
   "execution_count": 143,
   "metadata": {},
   "outputs": [
    {
     "data": {
      "text/html": [
       "<div>\n",
       "<style scoped>\n",
       "    .dataframe tbody tr th:only-of-type {\n",
       "        vertical-align: middle;\n",
       "    }\n",
       "\n",
       "    .dataframe tbody tr th {\n",
       "        vertical-align: top;\n",
       "    }\n",
       "\n",
       "    .dataframe thead th {\n",
       "        text-align: right;\n",
       "    }\n",
       "</style>\n",
       "<table border=\"1\" class=\"dataframe\">\n",
       "  <thead>\n",
       "    <tr style=\"text-align: right;\">\n",
       "      <th></th>\n",
       "      <th>mpg</th>\n",
       "      <th>cylinders</th>\n",
       "      <th>displacement</th>\n",
       "      <th>horsepower</th>\n",
       "      <th>weight</th>\n",
       "      <th>acceleration</th>\n",
       "      <th>model_year</th>\n",
       "      <th>origin</th>\n",
       "      <th>car_name</th>\n",
       "      <th>event_time</th>\n",
       "      <th>write_time</th>\n",
       "      <th>api_invocation_time</th>\n",
       "      <th>is_deleted</th>\n",
       "    </tr>\n",
       "  </thead>\n",
       "  <tbody>\n",
       "    <tr>\n",
       "      <th>0</th>\n",
       "      <td>14.0</td>\n",
       "      <td>8</td>\n",
       "      <td>340.0</td>\n",
       "      <td>160.0</td>\n",
       "      <td>3609.0</td>\n",
       "      <td>8.0</td>\n",
       "      <td>70</td>\n",
       "      <td>1</td>\n",
       "      <td>plymouth 'cuda 340</td>\n",
       "      <td>28800.0</td>\n",
       "      <td>2021-08-24 00:31:00.268</td>\n",
       "      <td>2021-08-24 00:24:51.000</td>\n",
       "      <td>False</td>\n",
       "    </tr>\n",
       "    <tr>\n",
       "      <th>1</th>\n",
       "      <td>17.0</td>\n",
       "      <td>6</td>\n",
       "      <td>163.0</td>\n",
       "      <td>125.0</td>\n",
       "      <td>3140.0</td>\n",
       "      <td>13.6</td>\n",
       "      <td>78</td>\n",
       "      <td>2</td>\n",
       "      <td>volvo 264gl</td>\n",
       "      <td>252489600.0</td>\n",
       "      <td>2021-08-24 00:30:30.401</td>\n",
       "      <td>2021-08-24 00:25:00.000</td>\n",
       "      <td>False</td>\n",
       "    </tr>\n",
       "    <tr>\n",
       "      <th>2</th>\n",
       "      <td>19.0</td>\n",
       "      <td>6</td>\n",
       "      <td>225.0</td>\n",
       "      <td>95.0</td>\n",
       "      <td>3264.0</td>\n",
       "      <td>16.0</td>\n",
       "      <td>75</td>\n",
       "      <td>1</td>\n",
       "      <td>plymouth valiant custom</td>\n",
       "      <td>157795200.0</td>\n",
       "      <td>2021-08-24 00:31:05.584</td>\n",
       "      <td>2021-08-24 00:24:56.000</td>\n",
       "      <td>False</td>\n",
       "    </tr>\n",
       "    <tr>\n",
       "      <th>3</th>\n",
       "      <td>17.0</td>\n",
       "      <td>8</td>\n",
       "      <td>302.0</td>\n",
       "      <td>140.0</td>\n",
       "      <td>3449.0</td>\n",
       "      <td>10.5</td>\n",
       "      <td>70</td>\n",
       "      <td>1</td>\n",
       "      <td>ford torino</td>\n",
       "      <td>28800.0</td>\n",
       "      <td>2021-08-24 00:31:04.984</td>\n",
       "      <td>2021-08-24 00:24:51.000</td>\n",
       "      <td>False</td>\n",
       "    </tr>\n",
       "    <tr>\n",
       "      <th>4</th>\n",
       "      <td>10.0</td>\n",
       "      <td>8</td>\n",
       "      <td>360.0</td>\n",
       "      <td>215.0</td>\n",
       "      <td>4615.0</td>\n",
       "      <td>14.0</td>\n",
       "      <td>70</td>\n",
       "      <td>1</td>\n",
       "      <td>ford f250</td>\n",
       "      <td>28800.0</td>\n",
       "      <td>2021-08-24 00:31:04.984</td>\n",
       "      <td>2021-08-24 00:24:51.000</td>\n",
       "      <td>False</td>\n",
       "    </tr>\n",
       "  </tbody>\n",
       "</table>\n",
       "</div>"
      ],
      "text/plain": [
       "    mpg  cylinders  displacement  horsepower  weight  acceleration  \\\n",
       "0  14.0          8         340.0       160.0  3609.0           8.0   \n",
       "1  17.0          6         163.0       125.0  3140.0          13.6   \n",
       "2  19.0          6         225.0        95.0  3264.0          16.0   \n",
       "3  17.0          8         302.0       140.0  3449.0          10.5   \n",
       "4  10.0          8         360.0       215.0  4615.0          14.0   \n",
       "\n",
       "   model_year  origin                 car_name   event_time  \\\n",
       "0          70       1       plymouth 'cuda 340      28800.0   \n",
       "1          78       2              volvo 264gl  252489600.0   \n",
       "2          75       1  plymouth valiant custom  157795200.0   \n",
       "3          70       1              ford torino      28800.0   \n",
       "4          70       1                ford f250      28800.0   \n",
       "\n",
       "                write_time      api_invocation_time  is_deleted  \n",
       "0  2021-08-24 00:31:00.268  2021-08-24 00:24:51.000       False  \n",
       "1  2021-08-24 00:30:30.401  2021-08-24 00:25:00.000       False  \n",
       "2  2021-08-24 00:31:05.584  2021-08-24 00:24:56.000       False  \n",
       "3  2021-08-24 00:31:04.984  2021-08-24 00:24:51.000       False  \n",
       "4  2021-08-24 00:31:04.984  2021-08-24 00:24:51.000       False  "
      ]
     },
     "execution_count": 143,
     "metadata": {},
     "output_type": "execute_result"
    }
   ],
   "source": [
    "dataset_2.head()"
   ]
  },
  {
   "cell_type": "code",
   "execution_count": 131,
   "metadata": {},
   "outputs": [
    {
     "name": "stdout",
     "output_type": "stream",
     "text": [
      "Running \n",
      "SELECT *\n",
      "FROM\n",
      "    (SELECT *,\n",
      "         row_number()\n",
      "        OVER (PARTITION BY car_name\n",
      "    ORDER BY  event_time desc, Api_Invocation_Time DESC, write_time DESC) AS row_number\n",
      "    FROM \"auto-mpg-2021-08-24-00-23-45-1629764637\"\n",
      "    where event_time < 284025600)\n",
      "WHERE row_number = 1 and\n",
      "NOT is_deleted\n",
      "\n"
     ]
    }
   ],
   "source": [
    "query_string_3='''\n",
    "SELECT *\n",
    "FROM\n",
    "    (SELECT *,\n",
    "         row_number()\n",
    "        OVER (PARTITION BY car_name\n",
    "    ORDER BY  event_time desc, Api_Invocation_Time DESC, write_time DESC) AS row_number\n",
    "    FROM \"%s\"\n",
    "    where event_time < %.f)\n",
    "WHERE row_number = 1 and\n",
    "NOT is_deleted\n",
    "''' % (table_name, datetime.datetime(1979, 1, 1, 8, 0, 0).timestamp())\n",
    "\n",
    "print('Running ' + query_string_3)\n",
    "\n",
    "query.run(\n",
    "        query_string=query_string_3,\n",
    "        output_location=f's3://{bucket}/{prefix}/query_results/')\n",
    "query.wait()\n",
    "dataset_3 = query.as_dataframe()"
   ]
  },
  {
   "cell_type": "code",
   "execution_count": 132,
   "metadata": {},
   "outputs": [
    {
     "data": {
      "text/plain": [
       "(212, 14)"
      ]
     },
     "execution_count": 132,
     "metadata": {},
     "output_type": "execute_result"
    }
   ],
   "source": [
    "dataset_3.shape"
   ]
  },
  {
   "cell_type": "code",
   "execution_count": 144,
   "metadata": {},
   "outputs": [
    {
     "data": {
      "text/html": [
       "<div>\n",
       "<style scoped>\n",
       "    .dataframe tbody tr th:only-of-type {\n",
       "        vertical-align: middle;\n",
       "    }\n",
       "\n",
       "    .dataframe tbody tr th {\n",
       "        vertical-align: top;\n",
       "    }\n",
       "\n",
       "    .dataframe thead th {\n",
       "        text-align: right;\n",
       "    }\n",
       "</style>\n",
       "<table border=\"1\" class=\"dataframe\">\n",
       "  <thead>\n",
       "    <tr style=\"text-align: right;\">\n",
       "      <th></th>\n",
       "      <th>mpg</th>\n",
       "      <th>cylinders</th>\n",
       "      <th>displacement</th>\n",
       "      <th>horsepower</th>\n",
       "      <th>weight</th>\n",
       "      <th>acceleration</th>\n",
       "      <th>model_year</th>\n",
       "      <th>origin</th>\n",
       "      <th>car_name</th>\n",
       "      <th>event_time</th>\n",
       "      <th>write_time</th>\n",
       "      <th>api_invocation_time</th>\n",
       "      <th>is_deleted</th>\n",
       "    </tr>\n",
       "  </thead>\n",
       "  <tbody>\n",
       "    <tr>\n",
       "      <th>5</th>\n",
       "      <td>21.0</td>\n",
       "      <td>6</td>\n",
       "      <td>199.0</td>\n",
       "      <td>90.0</td>\n",
       "      <td>2648.0</td>\n",
       "      <td>15.0</td>\n",
       "      <td>70</td>\n",
       "      <td>1</td>\n",
       "      <td>amc gremlin</td>\n",
       "      <td>28800.0</td>\n",
       "      <td>2021-08-24 00:31:06.532</td>\n",
       "      <td>2021-08-24 00:24:51.000</td>\n",
       "      <td>False</td>\n",
       "    </tr>\n",
       "    <tr>\n",
       "      <th>14</th>\n",
       "      <td>20.0</td>\n",
       "      <td>6</td>\n",
       "      <td>232.0</td>\n",
       "      <td>100.0</td>\n",
       "      <td>2914.0</td>\n",
       "      <td>16.0</td>\n",
       "      <td>75</td>\n",
       "      <td>1</td>\n",
       "      <td>amc gremlin</td>\n",
       "      <td>157795200.0</td>\n",
       "      <td>2021-08-24 00:31:06.538</td>\n",
       "      <td>2021-08-24 00:24:57.000</td>\n",
       "      <td>False</td>\n",
       "    </tr>\n",
       "    <tr>\n",
       "      <th>156</th>\n",
       "      <td>19.0</td>\n",
       "      <td>6</td>\n",
       "      <td>232.0</td>\n",
       "      <td>100.0</td>\n",
       "      <td>2634.0</td>\n",
       "      <td>13.0</td>\n",
       "      <td>71</td>\n",
       "      <td>1</td>\n",
       "      <td>amc gremlin</td>\n",
       "      <td>31564800.0</td>\n",
       "      <td>2021-08-24 00:31:06.532</td>\n",
       "      <td>2021-08-24 00:24:52.000</td>\n",
       "      <td>False</td>\n",
       "    </tr>\n",
       "    <tr>\n",
       "      <th>275</th>\n",
       "      <td>18.0</td>\n",
       "      <td>6</td>\n",
       "      <td>232.0</td>\n",
       "      <td>100.0</td>\n",
       "      <td>2789.0</td>\n",
       "      <td>15.0</td>\n",
       "      <td>73</td>\n",
       "      <td>1</td>\n",
       "      <td>amc gremlin</td>\n",
       "      <td>94723200.0</td>\n",
       "      <td>2021-08-24 00:31:06.538</td>\n",
       "      <td>2021-08-24 00:24:55.000</td>\n",
       "      <td>False</td>\n",
       "    </tr>\n",
       "  </tbody>\n",
       "</table>\n",
       "</div>"
      ],
      "text/plain": [
       "      mpg  cylinders  displacement  horsepower  weight  acceleration  \\\n",
       "5    21.0          6         199.0        90.0  2648.0          15.0   \n",
       "14   20.0          6         232.0       100.0  2914.0          16.0   \n",
       "156  19.0          6         232.0       100.0  2634.0          13.0   \n",
       "275  18.0          6         232.0       100.0  2789.0          15.0   \n",
       "\n",
       "     model_year  origin     car_name   event_time               write_time  \\\n",
       "5            70       1  amc gremlin      28800.0  2021-08-24 00:31:06.532   \n",
       "14           75       1  amc gremlin  157795200.0  2021-08-24 00:31:06.538   \n",
       "156          71       1  amc gremlin   31564800.0  2021-08-24 00:31:06.532   \n",
       "275          73       1  amc gremlin   94723200.0  2021-08-24 00:31:06.538   \n",
       "\n",
       "         api_invocation_time  is_deleted  \n",
       "5    2021-08-24 00:24:51.000       False  \n",
       "14   2021-08-24 00:24:57.000       False  \n",
       "156  2021-08-24 00:24:52.000       False  \n",
       "275  2021-08-24 00:24:55.000       False  "
      ]
     },
     "execution_count": 144,
     "metadata": {},
     "output_type": "execute_result"
    }
   ],
   "source": [
    "dataset_2[dataset_2['car_name']=='amc gremlin']"
   ]
  },
  {
   "cell_type": "code",
   "execution_count": 138,
   "metadata": {},
   "outputs": [
    {
     "data": {
      "text/html": [
       "<div>\n",
       "<style scoped>\n",
       "    .dataframe tbody tr th:only-of-type {\n",
       "        vertical-align: middle;\n",
       "    }\n",
       "\n",
       "    .dataframe tbody tr th {\n",
       "        vertical-align: top;\n",
       "    }\n",
       "\n",
       "    .dataframe thead th {\n",
       "        text-align: right;\n",
       "    }\n",
       "</style>\n",
       "<table border=\"1\" class=\"dataframe\">\n",
       "  <thead>\n",
       "    <tr style=\"text-align: right;\">\n",
       "      <th></th>\n",
       "      <th>mpg</th>\n",
       "      <th>cylinders</th>\n",
       "      <th>displacement</th>\n",
       "      <th>horsepower</th>\n",
       "      <th>weight</th>\n",
       "      <th>acceleration</th>\n",
       "      <th>model_year</th>\n",
       "      <th>origin</th>\n",
       "      <th>car_name</th>\n",
       "      <th>event_time</th>\n",
       "      <th>write_time</th>\n",
       "      <th>api_invocation_time</th>\n",
       "      <th>is_deleted</th>\n",
       "      <th>row_number</th>\n",
       "    </tr>\n",
       "  </thead>\n",
       "  <tbody>\n",
       "    <tr>\n",
       "      <th>193</th>\n",
       "      <td>20.0</td>\n",
       "      <td>6</td>\n",
       "      <td>232.0</td>\n",
       "      <td>100.0</td>\n",
       "      <td>2914.0</td>\n",
       "      <td>16.0</td>\n",
       "      <td>75</td>\n",
       "      <td>1</td>\n",
       "      <td>amc gremlin</td>\n",
       "      <td>157795200.0</td>\n",
       "      <td>2021-08-24 00:31:06.538</td>\n",
       "      <td>2021-08-24 00:24:57.000</td>\n",
       "      <td>False</td>\n",
       "      <td>1</td>\n",
       "    </tr>\n",
       "  </tbody>\n",
       "</table>\n",
       "</div>"
      ],
      "text/plain": [
       "      mpg  cylinders  displacement  horsepower  weight  acceleration  \\\n",
       "193  20.0          6         232.0       100.0  2914.0          16.0   \n",
       "\n",
       "     model_year  origin     car_name   event_time               write_time  \\\n",
       "193          75       1  amc gremlin  157795200.0  2021-08-24 00:31:06.538   \n",
       "\n",
       "         api_invocation_time  is_deleted  row_number  \n",
       "193  2021-08-24 00:24:57.000       False           1  "
      ]
     },
     "execution_count": 138,
     "metadata": {},
     "output_type": "execute_result"
    }
   ],
   "source": [
    "dataset_3[dataset_3['car_name']=='amc gremlin']"
   ]
  },
  {
   "cell_type": "code",
   "execution_count": 149,
   "metadata": {},
   "outputs": [
    {
     "data": {
      "text/plain": [
       "{'ResponseMetadata': {'RequestId': 'a5cd0586-37d2-459f-93ac-a2cecaf40688',\n",
       "  'HTTPStatusCode': 200,\n",
       "  'HTTPHeaders': {'x-amzn-requestid': 'a5cd0586-37d2-459f-93ac-a2cecaf40688',\n",
       "   'content-type': 'application/json',\n",
       "   'content-length': '528',\n",
       "   'date': 'Mon, 13 Sep 2021 18:23:37 GMT'},\n",
       "  'RetryAttempts': 0},\n",
       " 'Record': [{'FeatureName': 'mpg', 'ValueAsString': '20.0'},\n",
       "  {'FeatureName': 'cylinders', 'ValueAsString': '6'},\n",
       "  {'FeatureName': 'displacement', 'ValueAsString': '232.0'},\n",
       "  {'FeatureName': 'horsepower', 'ValueAsString': '100.0'},\n",
       "  {'FeatureName': 'weight', 'ValueAsString': '2914.0'},\n",
       "  {'FeatureName': 'acceleration', 'ValueAsString': '16.0'},\n",
       "  {'FeatureName': 'model_year', 'ValueAsString': '75'},\n",
       "  {'FeatureName': 'origin', 'ValueAsString': '1'},\n",
       "  {'FeatureName': 'car_name', 'ValueAsString': 'amc gremlin'},\n",
       "  {'FeatureName': 'event_time', 'ValueAsString': '157795200.0'}]}"
      ]
     },
     "execution_count": 149,
     "metadata": {},
     "output_type": "execute_result"
    }
   ],
   "source": [
    "car_name = 'amc gremlin'\n",
    "featurestore_runtime =  sess.boto_session.client(service_name='sagemaker-featurestore-runtime', \n",
    "                                                 region_name=region)\n",
    "amc_gremlin = featurestore_runtime.get_record(\n",
    "    FeatureGroupName=feature_group_name, RecordIdentifierValueAsString=car_name\n",
    ")\n",
    "amc_gremlin"
   ]
  },
  {
   "cell_type": "code",
   "execution_count": 150,
   "metadata": {},
   "outputs": [
    {
     "data": {
      "text/plain": [
       "dict"
      ]
     },
     "execution_count": 150,
     "metadata": {},
     "output_type": "execute_result"
    }
   ],
   "source": [
    "type(amc_gremlin)"
   ]
  },
  {
   "cell_type": "code",
   "execution_count": null,
   "metadata": {},
   "outputs": [],
   "source": [
    "query_string='''\n",
    "SELECT *\n",
    "FROM\n",
    "    (SELECT *,\n",
    "         row_number()\n",
    "        OVER (PARTITION BY car_name\n",
    "    ORDER BY  event_time desc, Api_Invocation_Time DESC, write_time DESC) AS row_number\n",
    "    FROM \"auto-mpg-2021-08-24-00-23-45-1629764637\"\n",
    "    where event_time <= %.f)\n",
    "WHERE row_number = 1 and\n",
    "NOT is_deleted\n",
    "''' % datetime.datetime(1981, 1, 1, 8, 0, 0).timestamp()\n",
    "\n",
    "df_query=get_df_from_query(feature_group, query_string)"
   ]
  },
  {
   "cell_type": "code",
   "execution_count": 67,
   "metadata": {},
   "outputs": [
    {
     "data": {
      "text/html": [
       "<div>\n",
       "<style scoped>\n",
       "    .dataframe tbody tr th:only-of-type {\n",
       "        vertical-align: middle;\n",
       "    }\n",
       "\n",
       "    .dataframe tbody tr th {\n",
       "        vertical-align: top;\n",
       "    }\n",
       "\n",
       "    .dataframe thead th {\n",
       "        text-align: right;\n",
       "    }\n",
       "</style>\n",
       "<table border=\"1\" class=\"dataframe\">\n",
       "  <thead>\n",
       "    <tr style=\"text-align: right;\">\n",
       "      <th></th>\n",
       "      <th>mpg</th>\n",
       "      <th>cylinders</th>\n",
       "      <th>displacement</th>\n",
       "      <th>horsepower</th>\n",
       "      <th>weight</th>\n",
       "      <th>acceleration</th>\n",
       "      <th>model_year</th>\n",
       "      <th>origin</th>\n",
       "      <th>car_name</th>\n",
       "      <th>event_time</th>\n",
       "      <th>write_time</th>\n",
       "      <th>api_invocation_time</th>\n",
       "      <th>is_deleted</th>\n",
       "    </tr>\n",
       "  </thead>\n",
       "  <tbody>\n",
       "    <tr>\n",
       "      <th>249</th>\n",
       "      <td>24.3</td>\n",
       "      <td>4</td>\n",
       "      <td>151.0</td>\n",
       "      <td>90.0</td>\n",
       "      <td>3003.0</td>\n",
       "      <td>20.1</td>\n",
       "      <td>80</td>\n",
       "      <td>1</td>\n",
       "      <td>amc concord</td>\n",
       "      <td>315561600.0</td>\n",
       "      <td>2021-08-24 00:30:59.298</td>\n",
       "      <td>2021-08-24 00:25:03.000</td>\n",
       "      <td>False</td>\n",
       "    </tr>\n",
       "    <tr>\n",
       "      <th>310</th>\n",
       "      <td>19.4</td>\n",
       "      <td>6</td>\n",
       "      <td>232.0</td>\n",
       "      <td>90.0</td>\n",
       "      <td>3210.0</td>\n",
       "      <td>17.2</td>\n",
       "      <td>78</td>\n",
       "      <td>1</td>\n",
       "      <td>amc concord</td>\n",
       "      <td>252489600.0</td>\n",
       "      <td>2021-08-24 00:30:59.298</td>\n",
       "      <td>2021-08-24 00:25:00.000</td>\n",
       "      <td>False</td>\n",
       "    </tr>\n",
       "  </tbody>\n",
       "</table>\n",
       "</div>"
      ],
      "text/plain": [
       "      mpg  cylinders  displacement  horsepower  weight  acceleration  \\\n",
       "249  24.3          4         151.0        90.0  3003.0          20.1   \n",
       "310  19.4          6         232.0        90.0  3210.0          17.2   \n",
       "\n",
       "     model_year  origin     car_name   event_time               write_time  \\\n",
       "249          80       1  amc concord  315561600.0  2021-08-24 00:30:59.298   \n",
       "310          78       1  amc concord  252489600.0  2021-08-24 00:30:59.298   \n",
       "\n",
       "         api_invocation_time  is_deleted  \n",
       "249  2021-08-24 00:25:03.000       False  \n",
       "310  2021-08-24 00:25:00.000       False  "
      ]
     },
     "execution_count": 67,
     "metadata": {},
     "output_type": "execute_result"
    }
   ],
   "source": [
    "dataset[dataset['car_name']=='amc concord']"
   ]
  },
  {
   "cell_type": "code",
   "execution_count": 107,
   "metadata": {},
   "outputs": [
    {
     "name": "stdout",
     "output_type": "stream",
     "text": [
      "Running \n",
      "SELECT *\n",
      "FROM\n",
      "    (SELECT *,\n",
      "         row_number()\n",
      "        OVER (PARTITION BY car_name\n",
      "    ORDER BY  event_time desc, Api_Invocation_Time DESC, write_time DESC) AS row_number\n",
      "    FROM \"auto-mpg-2021-08-24-00-23-45-1629764637\"\n",
      "    where event_time <= 347184000)\n",
      "WHERE row_number = 1 and\n",
      "NOT is_deleted\n",
      "\n"
     ]
    }
   ],
   "source": [
    "query_string='''\n",
    "SELECT *\n",
    "FROM\n",
    "    (SELECT *,\n",
    "         row_number()\n",
    "        OVER (PARTITION BY car_name\n",
    "    ORDER BY  event_time desc, Api_Invocation_Time DESC, write_time DESC) AS row_number\n",
    "    FROM \"auto-mpg-2021-08-24-00-23-45-1629764637\"\n",
    "    where event_time <= %.f)\n",
    "WHERE row_number = 1 and\n",
    "NOT is_deleted\n",
    "''' % datetime.datetime(1981, 1, 1, 8, 0, 0).timestamp()\n",
    "\n",
    "df_query=get_df_from_query(feature_group, query_string)"
   ]
  },
  {
   "cell_type": "code",
   "execution_count": 108,
   "metadata": {},
   "outputs": [
    {
     "data": {
      "text/plain": [
       "(278, 14)"
      ]
     },
     "execution_count": 108,
     "metadata": {},
     "output_type": "execute_result"
    }
   ],
   "source": [
    "df_query.shape"
   ]
  },
  {
   "cell_type": "code",
   "execution_count": 109,
   "metadata": {},
   "outputs": [
    {
     "data": {
      "text/html": [
       "<div>\n",
       "<style scoped>\n",
       "    .dataframe tbody tr th:only-of-type {\n",
       "        vertical-align: middle;\n",
       "    }\n",
       "\n",
       "    .dataframe tbody tr th {\n",
       "        vertical-align: top;\n",
       "    }\n",
       "\n",
       "    .dataframe thead th {\n",
       "        text-align: right;\n",
       "    }\n",
       "</style>\n",
       "<table border=\"1\" class=\"dataframe\">\n",
       "  <thead>\n",
       "    <tr style=\"text-align: right;\">\n",
       "      <th></th>\n",
       "      <th>mpg</th>\n",
       "      <th>cylinders</th>\n",
       "      <th>displacement</th>\n",
       "      <th>horsepower</th>\n",
       "      <th>weight</th>\n",
       "      <th>acceleration</th>\n",
       "      <th>model_year</th>\n",
       "      <th>origin</th>\n",
       "      <th>car_name</th>\n",
       "      <th>event_time</th>\n",
       "      <th>write_time</th>\n",
       "      <th>api_invocation_time</th>\n",
       "      <th>is_deleted</th>\n",
       "      <th>row_number</th>\n",
       "    </tr>\n",
       "  </thead>\n",
       "  <tbody>\n",
       "    <tr>\n",
       "      <th>0</th>\n",
       "      <td>26.5</td>\n",
       "      <td>4</td>\n",
       "      <td>140.0</td>\n",
       "      <td>72.0</td>\n",
       "      <td>2565.0</td>\n",
       "      <td>13.6</td>\n",
       "      <td>76</td>\n",
       "      <td>1</td>\n",
       "      <td>ford pinto</td>\n",
       "      <td>189331200.0</td>\n",
       "      <td>2021-08-24 00:31:05.406</td>\n",
       "      <td>2021-08-24 00:24:58.000</td>\n",
       "      <td>False</td>\n",
       "      <td>1</td>\n",
       "    </tr>\n",
       "    <tr>\n",
       "      <th>1</th>\n",
       "      <td>28.4</td>\n",
       "      <td>4</td>\n",
       "      <td>151.0</td>\n",
       "      <td>90.0</td>\n",
       "      <td>2670.0</td>\n",
       "      <td>16.0</td>\n",
       "      <td>79</td>\n",
       "      <td>1</td>\n",
       "      <td>buick skylark limited</td>\n",
       "      <td>284025600.0</td>\n",
       "      <td>2021-08-24 00:31:04.409</td>\n",
       "      <td>2021-08-24 00:25:02.000</td>\n",
       "      <td>False</td>\n",
       "      <td>1</td>\n",
       "    </tr>\n",
       "    <tr>\n",
       "      <th>2</th>\n",
       "      <td>30.5</td>\n",
       "      <td>4</td>\n",
       "      <td>97.0</td>\n",
       "      <td>78.0</td>\n",
       "      <td>2190.0</td>\n",
       "      <td>14.1</td>\n",
       "      <td>77</td>\n",
       "      <td>2</td>\n",
       "      <td>volkswagen dasher</td>\n",
       "      <td>220953600.0</td>\n",
       "      <td>2021-08-24 00:31:03.598</td>\n",
       "      <td>2021-08-24 00:24:59.000</td>\n",
       "      <td>False</td>\n",
       "      <td>1</td>\n",
       "    </tr>\n",
       "    <tr>\n",
       "      <th>3</th>\n",
       "      <td>18.5</td>\n",
       "      <td>8</td>\n",
       "      <td>360.0</td>\n",
       "      <td>150.0</td>\n",
       "      <td>3940.0</td>\n",
       "      <td>13.0</td>\n",
       "      <td>79</td>\n",
       "      <td>1</td>\n",
       "      <td>chrysler lebaron town @ country (sw)</td>\n",
       "      <td>284025600.0</td>\n",
       "      <td>2021-08-24 00:31:04.102</td>\n",
       "      <td>2021-08-24 00:25:02.000</td>\n",
       "      <td>False</td>\n",
       "      <td>1</td>\n",
       "    </tr>\n",
       "    <tr>\n",
       "      <th>4</th>\n",
       "      <td>16.0</td>\n",
       "      <td>6</td>\n",
       "      <td>250.0</td>\n",
       "      <td>105.0</td>\n",
       "      <td>3897.0</td>\n",
       "      <td>18.5</td>\n",
       "      <td>75</td>\n",
       "      <td>1</td>\n",
       "      <td>chevroelt chevelle malibu</td>\n",
       "      <td>157795200.0</td>\n",
       "      <td>2021-08-24 00:31:05.284</td>\n",
       "      <td>2021-08-24 00:24:57.000</td>\n",
       "      <td>False</td>\n",
       "      <td>1</td>\n",
       "    </tr>\n",
       "    <tr>\n",
       "      <th>...</th>\n",
       "      <td>...</td>\n",
       "      <td>...</td>\n",
       "      <td>...</td>\n",
       "      <td>...</td>\n",
       "      <td>...</td>\n",
       "      <td>...</td>\n",
       "      <td>...</td>\n",
       "      <td>...</td>\n",
       "      <td>...</td>\n",
       "      <td>...</td>\n",
       "      <td>...</td>\n",
       "      <td>...</td>\n",
       "      <td>...</td>\n",
       "      <td>...</td>\n",
       "    </tr>\n",
       "    <tr>\n",
       "      <th>273</th>\n",
       "      <td>27.0</td>\n",
       "      <td>4</td>\n",
       "      <td>101.0</td>\n",
       "      <td>83.0</td>\n",
       "      <td>2202.0</td>\n",
       "      <td>15.3</td>\n",
       "      <td>76</td>\n",
       "      <td>2</td>\n",
       "      <td>renault 12tl</td>\n",
       "      <td>189331200.0</td>\n",
       "      <td>2021-08-24 00:31:04.011</td>\n",
       "      <td>2021-08-24 00:24:58.000</td>\n",
       "      <td>False</td>\n",
       "      <td>1</td>\n",
       "    </tr>\n",
       "    <tr>\n",
       "      <th>274</th>\n",
       "      <td>12.0</td>\n",
       "      <td>8</td>\n",
       "      <td>383.0</td>\n",
       "      <td>180.0</td>\n",
       "      <td>4955.0</td>\n",
       "      <td>11.5</td>\n",
       "      <td>71</td>\n",
       "      <td>1</td>\n",
       "      <td>dodge monaco (sw)</td>\n",
       "      <td>31564800.0</td>\n",
       "      <td>2021-08-24 00:31:03.366</td>\n",
       "      <td>2021-08-24 00:24:52.000</td>\n",
       "      <td>False</td>\n",
       "      <td>1</td>\n",
       "    </tr>\n",
       "    <tr>\n",
       "      <th>275</th>\n",
       "      <td>27.0</td>\n",
       "      <td>4</td>\n",
       "      <td>97.0</td>\n",
       "      <td>88.0</td>\n",
       "      <td>2100.0</td>\n",
       "      <td>16.5</td>\n",
       "      <td>72</td>\n",
       "      <td>3</td>\n",
       "      <td>toyota corolla 1600 (sw)</td>\n",
       "      <td>63100800.0</td>\n",
       "      <td>2021-08-24 00:31:04.074</td>\n",
       "      <td>2021-08-24 00:24:53.000</td>\n",
       "      <td>False</td>\n",
       "      <td>1</td>\n",
       "    </tr>\n",
       "    <tr>\n",
       "      <th>276</th>\n",
       "      <td>14.0</td>\n",
       "      <td>8</td>\n",
       "      <td>400.0</td>\n",
       "      <td>175.0</td>\n",
       "      <td>4464.0</td>\n",
       "      <td>11.5</td>\n",
       "      <td>71</td>\n",
       "      <td>1</td>\n",
       "      <td>pontiac catalina brougham</td>\n",
       "      <td>31564800.0</td>\n",
       "      <td>2021-08-24 00:31:04.080</td>\n",
       "      <td>2021-08-24 00:24:52.000</td>\n",
       "      <td>False</td>\n",
       "      <td>1</td>\n",
       "    </tr>\n",
       "    <tr>\n",
       "      <th>277</th>\n",
       "      <td>33.5</td>\n",
       "      <td>4</td>\n",
       "      <td>85.0</td>\n",
       "      <td>70.0</td>\n",
       "      <td>1945.0</td>\n",
       "      <td>16.8</td>\n",
       "      <td>77</td>\n",
       "      <td>3</td>\n",
       "      <td>datsun f-10 hatchback</td>\n",
       "      <td>220953600.0</td>\n",
       "      <td>2021-08-24 00:31:04.077</td>\n",
       "      <td>2021-08-24 00:24:59.000</td>\n",
       "      <td>False</td>\n",
       "      <td>1</td>\n",
       "    </tr>\n",
       "  </tbody>\n",
       "</table>\n",
       "<p>278 rows × 14 columns</p>\n",
       "</div>"
      ],
      "text/plain": [
       "      mpg  cylinders  displacement  horsepower  weight  acceleration  \\\n",
       "0    26.5          4         140.0        72.0  2565.0          13.6   \n",
       "1    28.4          4         151.0        90.0  2670.0          16.0   \n",
       "2    30.5          4          97.0        78.0  2190.0          14.1   \n",
       "3    18.5          8         360.0       150.0  3940.0          13.0   \n",
       "4    16.0          6         250.0       105.0  3897.0          18.5   \n",
       "..    ...        ...           ...         ...     ...           ...   \n",
       "273  27.0          4         101.0        83.0  2202.0          15.3   \n",
       "274  12.0          8         383.0       180.0  4955.0          11.5   \n",
       "275  27.0          4          97.0        88.0  2100.0          16.5   \n",
       "276  14.0          8         400.0       175.0  4464.0          11.5   \n",
       "277  33.5          4          85.0        70.0  1945.0          16.8   \n",
       "\n",
       "     model_year  origin                              car_name   event_time  \\\n",
       "0            76       1                            ford pinto  189331200.0   \n",
       "1            79       1                 buick skylark limited  284025600.0   \n",
       "2            77       2                     volkswagen dasher  220953600.0   \n",
       "3            79       1  chrysler lebaron town @ country (sw)  284025600.0   \n",
       "4            75       1             chevroelt chevelle malibu  157795200.0   \n",
       "..          ...     ...                                   ...          ...   \n",
       "273          76       2                          renault 12tl  189331200.0   \n",
       "274          71       1                     dodge monaco (sw)   31564800.0   \n",
       "275          72       3              toyota corolla 1600 (sw)   63100800.0   \n",
       "276          71       1             pontiac catalina brougham   31564800.0   \n",
       "277          77       3                 datsun f-10 hatchback  220953600.0   \n",
       "\n",
       "                  write_time      api_invocation_time  is_deleted  row_number  \n",
       "0    2021-08-24 00:31:05.406  2021-08-24 00:24:58.000       False           1  \n",
       "1    2021-08-24 00:31:04.409  2021-08-24 00:25:02.000       False           1  \n",
       "2    2021-08-24 00:31:03.598  2021-08-24 00:24:59.000       False           1  \n",
       "3    2021-08-24 00:31:04.102  2021-08-24 00:25:02.000       False           1  \n",
       "4    2021-08-24 00:31:05.284  2021-08-24 00:24:57.000       False           1  \n",
       "..                       ...                      ...         ...         ...  \n",
       "273  2021-08-24 00:31:04.011  2021-08-24 00:24:58.000       False           1  \n",
       "274  2021-08-24 00:31:03.366  2021-08-24 00:24:52.000       False           1  \n",
       "275  2021-08-24 00:31:04.074  2021-08-24 00:24:53.000       False           1  \n",
       "276  2021-08-24 00:31:04.080  2021-08-24 00:24:52.000       False           1  \n",
       "277  2021-08-24 00:31:04.077  2021-08-24 00:24:59.000       False           1  \n",
       "\n",
       "[278 rows x 14 columns]"
      ]
     },
     "execution_count": 109,
     "metadata": {},
     "output_type": "execute_result"
    }
   ],
   "source": [
    "df_query"
   ]
  },
  {
   "cell_type": "code",
   "execution_count": 110,
   "metadata": {},
   "outputs": [
    {
     "data": {
      "text/html": [
       "<div>\n",
       "<style scoped>\n",
       "    .dataframe tbody tr th:only-of-type {\n",
       "        vertical-align: middle;\n",
       "    }\n",
       "\n",
       "    .dataframe tbody tr th {\n",
       "        vertical-align: top;\n",
       "    }\n",
       "\n",
       "    .dataframe thead th {\n",
       "        text-align: right;\n",
       "    }\n",
       "</style>\n",
       "<table border=\"1\" class=\"dataframe\">\n",
       "  <thead>\n",
       "    <tr style=\"text-align: right;\">\n",
       "      <th></th>\n",
       "      <th>mpg</th>\n",
       "      <th>cylinders</th>\n",
       "      <th>displacement</th>\n",
       "      <th>horsepower</th>\n",
       "      <th>weight</th>\n",
       "      <th>acceleration</th>\n",
       "      <th>model_year</th>\n",
       "      <th>origin</th>\n",
       "      <th>car_name</th>\n",
       "      <th>event_time</th>\n",
       "      <th>write_time</th>\n",
       "      <th>api_invocation_time</th>\n",
       "      <th>is_deleted</th>\n",
       "      <th>row_number</th>\n",
       "    </tr>\n",
       "  </thead>\n",
       "  <tbody>\n",
       "    <tr>\n",
       "      <th>185</th>\n",
       "      <td>20.0</td>\n",
       "      <td>6</td>\n",
       "      <td>232.0</td>\n",
       "      <td>100.0</td>\n",
       "      <td>2914.0</td>\n",
       "      <td>16.0</td>\n",
       "      <td>75</td>\n",
       "      <td>1</td>\n",
       "      <td>amc gremlin</td>\n",
       "      <td>157795200.0</td>\n",
       "      <td>2021-08-24 00:31:06.538</td>\n",
       "      <td>2021-08-24 00:24:57.000</td>\n",
       "      <td>False</td>\n",
       "      <td>1</td>\n",
       "    </tr>\n",
       "  </tbody>\n",
       "</table>\n",
       "</div>"
      ],
      "text/plain": [
       "      mpg  cylinders  displacement  horsepower  weight  acceleration  \\\n",
       "185  20.0          6         232.0       100.0  2914.0          16.0   \n",
       "\n",
       "     model_year  origin     car_name   event_time               write_time  \\\n",
       "185          75       1  amc gremlin  157795200.0  2021-08-24 00:31:06.538   \n",
       "\n",
       "         api_invocation_time  is_deleted  row_number  \n",
       "185  2021-08-24 00:24:57.000       False           1  "
      ]
     },
     "execution_count": 110,
     "metadata": {},
     "output_type": "execute_result"
    }
   ],
   "source": [
    "df_query[df_query['car_name']=='amc gremlin']"
   ]
  },
  {
   "cell_type": "markdown",
   "metadata": {},
   "source": [
    "The query should be partitioned by `record_identifier_name` rather than `event_time_identifier_name`."
   ]
  },
  {
   "cell_type": "code",
   "execution_count": null,
   "metadata": {},
   "outputs": [],
   "source": []
  }
 ],
 "metadata": {
  "instance_type": "ml.t3.medium",
  "kernelspec": {
   "display_name": "Python 3 (Data Science)",
   "language": "python",
   "name": "python3__SAGEMAKER_INTERNAL__arn:aws:sagemaker:us-west-2:236514542706:image/datascience-1.0"
  },
  "language_info": {
   "codemirror_mode": {
    "name": "ipython",
    "version": 3
   },
   "file_extension": ".py",
   "mimetype": "text/x-python",
   "name": "python",
   "nbconvert_exporter": "python",
   "pygments_lexer": "ipython3",
   "version": "3.7.10"
  }
 },
 "nbformat": 4,
 "nbformat_minor": 4
}
