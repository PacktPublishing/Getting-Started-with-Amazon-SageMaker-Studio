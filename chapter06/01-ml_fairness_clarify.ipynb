{
 "cells": [
  {
   "cell_type": "markdown",
   "metadata": {},
   "source": [
    "This notebook is developed using the `Python 3 (Data Science)` kernel on an `ml.t3.medium` instance."
   ]
  },
  {
   "cell_type": "code",
   "execution_count": null,
   "metadata": {},
   "outputs": [],
   "source": [
    "!pip install -q sagemaker-experiments"
   ]
  },
  {
   "cell_type": "code",
   "execution_count": null,
   "metadata": {},
   "outputs": [],
   "source": [
    "import sagemaker\n",
    "import boto3\n",
    "\n",
    "role = sagemaker.get_execution_role()\n",
    "sess = sagemaker.Session()\n",
    "region = sess.boto_region_name\n",
    "bucket = sess.default_bucket()\n",
    "prefix = 'sagemaker-studio-book/chapter06'"
   ]
  },
  {
   "cell_type": "code",
   "execution_count": null,
   "metadata": {},
   "outputs": [],
   "source": [
    "from datetime import datetime, timedelta, timezone\n",
    "import json, os, re, uuid\n",
    "from time import sleep, gmtime, strftime\n",
    "\n",
    "import pandas as pd\n",
    "import numpy as np\n",
    "import matplotlib.pyplot as plt\n",
    "plt.style.use('fivethirtyeight')\n",
    "\n",
    "from smexperiments.experiment import Experiment\n",
    "from smexperiments.trial import Trial\n",
    "from botocore.exceptions import ClientError\n",
    "\n",
    "from sagemaker import image_uris\n",
    "from sagemaker.s3 import S3Uploader, S3Downloader\n",
    "from sagemaker.inputs import TrainingInput\n",
    "\n",
    "from sagemaker import clarify"
   ]
  },
  {
   "cell_type": "code",
   "execution_count": null,
   "metadata": {},
   "outputs": [],
   "source": [
    "orig_columns=['age', 'workclass', 'fnlwgt', 'education', 'education-num', 'marital-status', \n",
    "              'occupation', 'relationship', 'race', 'sex', 'capital-gain', 'capital-loss', \n",
    "              'hours-per-week', 'native-country', 'target']\n",
    "\n",
    "df=pd.read_csv('https://archive.ics.uci.edu/ml/machine-learning-databases/adult/adult.data', \n",
    "               names=orig_columns, sep=r'\\s*,\\s*', na_values='?', engine='python')\n",
    "df_valtest=pd.read_csv('https://archive.ics.uci.edu/ml/machine-learning-databases/adult/adult.test', \n",
    "               names=orig_columns, skiprows=1, sep=r'\\s*,\\s*', na_values='?', engine='python')\n",
    "\n",
    "df.drop(columns='education', inplace=True)\n",
    "df_valtest.drop(columns='education', inplace=True)\n",
    "df_valtest['target'] = df_valtest['target'].replace(to_replace=['<=50K.', '>50K.'], \n",
    "                                                    value=['<=50K', '>50K'])\n",
    "\n",
    "# move the target column to first for XGBoost\n",
    "new_columns=df.columns.tolist()\n",
    "new_columns=[new_columns[-1]]+new_columns[:-1]\n",
    "df=df[new_columns]\n",
    "df_valtest=df_valtest[new_columns]"
   ]
  },
  {
   "cell_type": "code",
   "execution_count": null,
   "metadata": {},
   "outputs": [],
   "source": [
    "df.head()"
   ]
  },
  {
   "cell_type": "code",
   "execution_count": null,
   "metadata": {},
   "outputs": [],
   "source": [
    "from sklearn import preprocessing\n",
    "\n",
    "categorical_columns=df.select_dtypes(include='object').columns\n",
    "\n",
    "encoder=preprocessing.OrdinalEncoder(dtype=int)\n",
    "df[categorical_columns]=encoder.fit_transform(df[categorical_columns].fillna('NaN'))\n",
    "df_valtest[categorical_columns]=encoder.transform(df_valtest[categorical_columns].fillna('NaN'))"
   ]
  },
  {
   "cell_type": "markdown",
   "metadata": {},
   "source": [
    "After the ordinal encoding, the main features of interest are converted as below.\n",
    "- sex: Male (1), Female (0)\n",
    "- target: >50K (1), <=50K (0)\n",
    "\n",
    "You can see the full mapping in `encoder.categories_`."
   ]
  },
  {
   "cell_type": "code",
   "execution_count": null,
   "metadata": {},
   "outputs": [],
   "source": [
    "from sklearn.model_selection import train_test_split\n",
    "df_val, df_test = train_test_split(df_valtest, test_size=0.9, random_state=42, \n",
    "                                   shuffle=True, stratify=df_valtest['target'])"
   ]
  },
  {
   "cell_type": "code",
   "execution_count": null,
   "metadata": {},
   "outputs": [],
   "source": [
    "df.shape, df_valtest.shape, df_val.shape, df_test.shape"
   ]
  },
  {
   "cell_type": "code",
   "execution_count": null,
   "metadata": {},
   "outputs": [],
   "source": [
    "df['sex'].value_counts(sort=False).plot(kind='bar', title='Total count by sex', rot=0)\n",
    "plt.xlabel('Sex (0: Female, 1: Male)')"
   ]
  },
  {
   "cell_type": "code",
   "execution_count": null,
   "metadata": {},
   "outputs": [],
   "source": [
    "df['target'].value_counts(sort=False).plot(kind='bar', title='Target distribution', rot=0)\n",
    "plt.xlabel('target (0: <=50K, 1: >50K)')"
   ]
  },
  {
   "cell_type": "code",
   "execution_count": null,
   "metadata": {},
   "outputs": [],
   "source": [
    "df[df['target']==1]['sex'].value_counts(sort=False).plot(\n",
    "            kind='bar', title='Earning >$50K by sex', rot=0)\n",
    "plt.xlabel('Sex (0: Female, 1: Male)')"
   ]
  },
  {
   "cell_type": "code",
   "execution_count": null,
   "metadata": {},
   "outputs": [],
   "source": [
    "os.makedirs('adult', exist_ok=True)\n",
    "df.to_csv('adult/adult-data-train.csv', index=False, header=False)\n",
    "df_val.to_csv('adult/adult-data-val.csv', index=False, header=False)\n",
    "\n",
    "train_s3_uri = S3Uploader.upload('adult/adult-data-train.csv', \n",
    "                              f's3://{bucket}/{prefix}/adult-data')\n",
    "val_s3_uri = S3Uploader.upload('adult/adult-data-val.csv', \n",
    "                            f's3://{bucket}/{prefix}/adult-data')"
   ]
  },
  {
   "cell_type": "code",
   "execution_count": null,
   "metadata": {},
   "outputs": [],
   "source": [
    "from sagemaker import clarify\n",
    "\n",
    "clarify_processor = clarify.SageMakerClarifyProcessor(\n",
    "                                    role=role, \n",
    "                                    instance_count=1, \n",
    "                                    instance_type='ml.m5.xlarge', \n",
    "                                    sagemaker_session=sess)"
   ]
  },
  {
   "cell_type": "code",
   "execution_count": null,
   "metadata": {},
   "outputs": [],
   "source": [
    "experiment_name = 'adult-income-clarify'\n",
    "\n",
    "try:\n",
    "    experiment = Experiment.create(\n",
    "        experiment_name=experiment_name, \n",
    "        description='Analyzing ML bias in adult income dataset using SageMaker Clarify.')\n",
    "except ClientError as e:\n",
    "    print(f'{experiment_name} experiment already exists! Reusing the existing experiment.')"
   ]
  },
  {
   "cell_type": "markdown",
   "metadata": {},
   "source": [
    "## Pre-training bias analysis"
   ]
  },
  {
   "cell_type": "code",
   "execution_count": null,
   "metadata": {},
   "outputs": [],
   "source": [
    "# Creating a new trial for the experiment\n",
    "exp_datetime_1 = strftime('%Y-%m-%d-%H-%M-%S', gmtime())\n",
    "\n",
    "exp_trial_1 = Trial.create(experiment_name=experiment_name, \n",
    "                           trial_name=exp_datetime_1)\n",
    "\n",
    "experiment_config={'ExperimentName': experiment_name,\n",
    "                   'TrialName': exp_trial_1.trial_name,\n",
    "                   'TrialComponentDisplayName': 'Pretraining-BiasAnalysis'}"
   ]
  },
  {
   "cell_type": "code",
   "execution_count": null,
   "metadata": {},
   "outputs": [],
   "source": [
    "pretraining_bias_report_output_path = f's3://{bucket}/{prefix}/{experiment_name}-{exp_trial_1.trial_name}/clarify-pretraining-bias'\n",
    "\n",
    "bias_data_config = clarify.DataConfig(\n",
    "    s3_data_input_path=train_s3_uri,\n",
    "    s3_output_path=pretraining_bias_report_output_path,\n",
    "    label='target',\n",
    "    headers=df.columns.tolist(),\n",
    "    dataset_type='text/csv',\n",
    ")"
   ]
  },
  {
   "cell_type": "code",
   "execution_count": null,
   "metadata": {},
   "outputs": [],
   "source": [
    "bias_config = clarify.BiasConfig(\n",
    "    label_values_or_threshold=[1], \n",
    "    facet_name=['sex', 'race'], \n",
    "    facet_values_or_threshold=[[0], None])"
   ]
  },
  {
   "cell_type": "code",
   "execution_count": null,
   "metadata": {},
   "outputs": [],
   "source": [
    "jobname = f'adult-clarify-pretraining-bias-{exp_datetime_1}'\n",
    "\n",
    "clarify_processor.run_pre_training_bias(\n",
    "    data_config=bias_data_config,\n",
    "    data_bias_config=bias_config,\n",
    "    methods='all',\n",
    "    job_name=jobname,\n",
    "    experiment_config=experiment_config,\n",
    "    wait=False,\n",
    "    logs=False)"
   ]
  },
  {
   "cell_type": "markdown",
   "metadata": {},
   "source": [
    "## Mitigating bias"
   ]
  },
  {
   "cell_type": "code",
   "execution_count": null,
   "metadata": {},
   "outputs": [],
   "source": [
    "max_female_sample=df.groupby(['sex', 'target'], \n",
    "                             group_keys=False).count().loc[(0, 1)]['age']"
   ]
  },
  {
   "cell_type": "code",
   "execution_count": null,
   "metadata": {},
   "outputs": [],
   "source": [
    "df_sampled=df.groupby(['sex', 'target'], \n",
    "                      group_keys=False).apply(lambda x: x.sample(max_female_sample))"
   ]
  },
  {
   "cell_type": "code",
   "execution_count": null,
   "metadata": {},
   "outputs": [],
   "source": [
    "df_sampled.shape"
   ]
  },
  {
   "cell_type": "code",
   "execution_count": null,
   "metadata": {},
   "outputs": [],
   "source": [
    "df_sampled['sex'].value_counts().sort_values().plot(kind='bar', \n",
    "                                                    title='Total count by sex', \n",
    "                                                    rot=0)"
   ]
  },
  {
   "cell_type": "code",
   "execution_count": null,
   "metadata": {},
   "outputs": [],
   "source": [
    "df_sampled['sex'].where(df_sampled['target'] == 1).value_counts().sort_values().plot(\n",
    "    kind='bar', title='Earning >$50K by sex', rot=0)"
   ]
  },
  {
   "cell_type": "code",
   "execution_count": null,
   "metadata": {},
   "outputs": [],
   "source": [
    "df_sampled.to_csv('adult/adult-data-train-sampled.csv', index=False, header=False)\n",
    "train_sampled_s3_uri = S3Uploader.upload('adult/adult-data-train-sampled.csv', \n",
    "                                      f's3://{bucket}/{prefix}/adult-data')"
   ]
  },
  {
   "cell_type": "markdown",
   "metadata": {},
   "source": [
    "### Rerun the pre-training bias analysis to confirm"
   ]
  },
  {
   "cell_type": "code",
   "execution_count": null,
   "metadata": {},
   "outputs": [],
   "source": [
    "exp_datetime_2 = strftime('%Y-%m-%d-%H-%M-%S', gmtime())\n",
    "\n",
    "# Creating a new trial as we are working on a new dataset\n",
    "exp_trial_2 = Trial.create(experiment_name=experiment_name, \n",
    "                         trial_name=exp_datetime_2)\n",
    "\n",
    "experiment_config={'ExperimentName': experiment_name,\n",
    "                   'TrialName': exp_trial_2.trial_name,\n",
    "                   'TrialComponentDisplayName': 'Pretraining-BiasAnalysis'}\n",
    "\n",
    "pretraining_bias_report_output_path = f's3://{bucket}/{prefix}/{experiment_name}-{exp_trial_2.trial_name}/clarify-pretraining-bias'\n",
    "\n",
    "bias_data_config = clarify.DataConfig(\n",
    "    s3_data_input_path=train_sampled_s3_uri,\n",
    "    s3_output_path=pretraining_bias_report_output_path,\n",
    "    label='target',\n",
    "    headers=df_sampled.columns.tolist(),\n",
    "    dataset_type='text/csv')\n",
    "\n",
    "bias_config = clarify.BiasConfig(\n",
    "    label_values_or_threshold=[1], \n",
    "    facet_name=['sex', 'race'], \n",
    "    facet_values_or_threshold=[[0], None])\n",
    "\n",
    "jobname = f'adult-sampled-clarify-pretraining-bias-{exp_datetime_2}'\n",
    "\n",
    "clarify_processor.run_pre_training_bias(\n",
    "    data_config=bias_data_config,\n",
    "    data_bias_config=bias_config,\n",
    "    methods='all',\n",
    "    job_name=jobname,\n",
    "    experiment_config=experiment_config,\n",
    "    wait=False,\n",
    "    logs=False)"
   ]
  },
  {
   "cell_type": "markdown",
   "metadata": {},
   "source": [
    "## Training a ML model using XGBoost"
   ]
  },
  {
   "cell_type": "code",
   "execution_count": null,
   "metadata": {
    "scrolled": true
   },
   "outputs": [],
   "source": [
    "exp_datetime_3 = strftime('%Y-%m-%d-%H-%M-%S', gmtime())\n",
    "jobname = f'adult-xgb-{exp_datetime_3}'\n",
    "\n",
    "experiment_config={'ExperimentName': experiment_name,\n",
    "                   'TrialName': exp_trial_2.trial_name,\n",
    "                   'TrialComponentDisplayName': 'Training'}\n",
    "\n",
    "image = image_uris.retrieve(region=region, framework='xgboost', version='1.3-1')\n",
    "\n",
    "train_s3_output = f's3://{bucket}/{prefix}/{experiment_name}-{exp_trial_2.trial_name}/training'\n",
    "\n",
    "xgb = sagemaker.estimator.Estimator(image,\n",
    "                                    role,\n",
    "                                    instance_type='ml.m5.xlarge',\n",
    "                                    instance_count=1,\n",
    "                                    output_path=train_s3_output,\n",
    "                                    enable_sagemaker_metrics=True,\n",
    "                                    sagemaker_session=sess)\n",
    "xgb.set_hyperparameters(objective='binary:logistic',\n",
    "                        eval_metric='error',\n",
    "                        num_round=50)\n",
    "\n",
    "train_input = sagemaker.inputs.TrainingInput(s3_data=train_sampled_s3_uri, \n",
    "                                             content_type='csv')\n",
    "\n",
    "val_input = sagemaker.inputs.TrainingInput(s3_data=val_s3_uri, \n",
    "                                             content_type='csv')\n",
    "\n",
    "data_channels={'train': train_input, 'validation': val_input}\n",
    "\n",
    "xgb.fit(inputs=data_channels, \n",
    "        job_name=jobname, \n",
    "        experiment_config=experiment_config, \n",
    "        wait=True)"
   ]
  },
  {
   "cell_type": "code",
   "execution_count": null,
   "metadata": {},
   "outputs": [],
   "source": [
    "model_name = f'adult-xgb-model-{exp_datetime_3}'\n",
    "model = xgb.create_model(name=model_name)\n",
    "\n",
    "container_def = model.prepare_container_def()\n",
    "sess.create_model(model_name, role, container_def)"
   ]
  },
  {
   "cell_type": "markdown",
   "metadata": {},
   "source": [
    "## Detecting post-training bias"
   ]
  },
  {
   "cell_type": "code",
   "execution_count": null,
   "metadata": {},
   "outputs": [],
   "source": [
    "experiment_config={'ExperimentName': experiment_name,\n",
    "                   'TrialName': exp_trial_2.trial_name,\n",
    "                   'TrialComponentDisplayName': 'Posttraining-BiasAnalysis'}\n",
    "\n",
    "posttraining_bias_report_output_path = f's3://{bucket}/{prefix}/{experiment_name}-{exp_trial_2.trial_name}/clarify-posttraining-bias'\n",
    "\n",
    "bias_data_config = clarify.DataConfig(\n",
    "    s3_data_input_path=train_sampled_s3_uri,\n",
    "    s3_output_path=posttraining_bias_report_output_path,\n",
    "    label='target',\n",
    "    headers=df_sampled.columns.tolist(),\n",
    "    dataset_type='text/csv')\n",
    "\n",
    "bias_config = clarify.BiasConfig(\n",
    "    label_values_or_threshold=[1], \n",
    "    facet_name=['sex', 'race'], \n",
    "    facet_values_or_threshold=[[0], None])"
   ]
  },
  {
   "cell_type": "code",
   "execution_count": null,
   "metadata": {},
   "outputs": [],
   "source": [
    "model_config = clarify.ModelConfig(\n",
    "    model_name=model_name,\n",
    "    instance_type='ml.m5.xlarge',\n",
    "    instance_count=1,\n",
    "    accept_type='text/csv',\n",
    "    content_type='text/csv')\n",
    "\n",
    "predictions_config = clarify.ModelPredictedLabelConfig(probability_threshold=0.5)"
   ]
  },
  {
   "cell_type": "code",
   "execution_count": null,
   "metadata": {},
   "outputs": [],
   "source": [
    "exp_datetime_4 = strftime('%Y-%m-%d-%H-%M-%S', gmtime())\n",
    "jobname = f'adult-sampled-clarify-posttraining-bias-{exp_datetime_4}'\n",
    "\n",
    "clarify_processor.run_post_training_bias(\n",
    "    data_config=bias_data_config,\n",
    "    data_bias_config=bias_config,\n",
    "    model_config=model_config,\n",
    "    model_predicted_label_config=predictions_config,\n",
    "    methods='all',    \n",
    "    job_name=jobname,\n",
    "    experiment_config=experiment_config,\n",
    "    wait=False,\n",
    "    logs=False)"
   ]
  },
  {
   "cell_type": "markdown",
   "metadata": {},
   "source": [
    "## Explaining ML models using SHAP values"
   ]
  },
  {
   "cell_type": "code",
   "execution_count": null,
   "metadata": {},
   "outputs": [],
   "source": [
    "experiment_config={'ExperimentName': experiment_name,\n",
    "                   'TrialName': exp_trial_2.trial_name,\n",
    "                   'TrialComponentDisplayName': 'Posttraining-SHAP'}\n",
    "\n",
    "explainability_output_path = f's3://{bucket}/{prefix}/{experiment_name}-{exp_trial_2.trial_name}/clarify-explainability'\n",
    "\n",
    "explainability_data_config = clarify.DataConfig(\n",
    "    s3_data_input_path=train_sampled_s3_uri,\n",
    "    s3_output_path=explainability_output_path,\n",
    "    label='target',\n",
    "    headers=df_sampled.columns.tolist(),\n",
    "    dataset_type='text/csv')\n",
    "\n",
    "model_config = clarify.ModelConfig(\n",
    "    model_name=model_name,\n",
    "    instance_type='ml.m5.xlarge',\n",
    "    instance_count=1,\n",
    "    accept_type='text/csv',\n",
    "    content_type='text/csv')\n",
    "\n",
    "baseline = df_sampled.query('target == 1').mode().iloc[0, 1:].astype(int).tolist()\n",
    "shap_config = clarify.SHAPConfig(\n",
    "    baseline=[baseline],\n",
    "    num_samples=15,\n",
    "    agg_method='mean_abs')"
   ]
  },
  {
   "cell_type": "code",
   "execution_count": null,
   "metadata": {},
   "outputs": [],
   "source": [
    "exp_datetime_5 = strftime('%Y-%m-%d-%H-%M-%S', gmtime())\n",
    "jobname = f'adult-sampled-clarify-posttraining-shap-{exp_datetime_5}'\n",
    "\n",
    "clarify_processor.run_explainability(\n",
    "    data_config=explainability_data_config,\n",
    "    model_config=model_config,\n",
    "    explainability_config=shap_config,\n",
    "    job_name=jobname,\n",
    "    experiment_config=experiment_config)"
   ]
  },
  {
   "cell_type": "code",
   "execution_count": null,
   "metadata": {},
   "outputs": [],
   "source": [
    "S3Downloader.download(f'{explainability_output_path}/explanations_shap/out.csv', \n",
    "                      './',\n",
    "                      sagemaker_session=sess)\n",
    "local_explanations_out = pd.read_csv('out.csv')\n",
    "feature_names = [str.replace(c, '_label0', '') \n",
    "                 for c in local_explanations_out.columns.to_series()]\n",
    "local_explanations_out.columns = feature_names\n",
    "\n",
    "selected_example = 500\n",
    "sample_prediction='>50K' if sum(local_explanations_out.iloc[selected_example]) > 0 else '<=50K'\n",
    "print(f'Example number: {selected_example}')\n",
    "print(f'with model prediction: {sample_prediction}')\n",
    "print()\n",
    "print(f'Feature values: \\n{df_sampled.iloc[selected_example].to_frame().T}')\n",
    "\n",
    "local_explanations_out.iloc[selected_example].plot(\n",
    "    kind='barh', \n",
    "    title=f'Local explanation for the {selected_example}th example.', \n",
    "    rot=0)"
   ]
  }
 ],
 "metadata": {
  "instance_type": "ml.t3.medium",
  "kernelspec": {
   "display_name": "Python 3 (Data Science)",
   "language": "python",
   "name": "python3__SAGEMAKER_INTERNAL__arn:aws:sagemaker:us-east-1:081325390199:image/datascience-1.0"
  },
  "language_info": {
   "codemirror_mode": {
    "name": "ipython",
    "version": 3
   },
   "file_extension": ".py",
   "mimetype": "text/x-python",
   "name": "python",
   "nbconvert_exporter": "python",
   "pygments_lexer": "ipython3",
   "version": "3.7.10"
  }
 },
 "nbformat": 4,
 "nbformat_minor": 4
}
