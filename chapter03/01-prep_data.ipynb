{
 "cells": [
  {
   "cell_type": "markdown",
   "metadata": {},
   "source": [
    "This notebook is developed using the `Python 3 (Data Science)` kernel on an `ml.t3.medium` instance."
   ]
  },
  {
   "cell_type": "code",
   "execution_count": null,
   "metadata": {},
   "outputs": [],
   "source": [
    "!pip install -q awswrangler"
   ]
  },
  {
   "cell_type": "code",
   "execution_count": null,
   "metadata": {},
   "outputs": [],
   "source": [
    "import pandas as pd\n",
    "import numpy as np\n",
    "import boto3\n",
    "import sagemaker\n",
    "import awswrangler as wr\n",
    "\n",
    "sess = sagemaker.Session()\n",
    "bucket = sess.default_bucket()\n",
    "prefix = 'sagemaker-studio-book/chapter03'"
   ]
  },
  {
   "cell_type": "code",
   "execution_count": null,
   "metadata": {},
   "outputs": [],
   "source": [
    "!aws s3 cp s3://sagemaker-sample-files/datasets/tabular/synthetic/churn.txt ./"
   ]
  },
  {
   "cell_type": "code",
   "execution_count": null,
   "metadata": {},
   "outputs": [],
   "source": [
    "df=pd.read_csv('./churn.txt')\n",
    "df['CustomerID']=df.index\n",
    "df.head()"
   ]
  },
  {
   "cell_type": "code",
   "execution_count": null,
   "metadata": {},
   "outputs": [],
   "source": [
    "columns_with_nan = ['Account Length', 'CustServ Calls']"
   ]
  },
  {
   "cell_type": "code",
   "execution_count": null,
   "metadata": {},
   "outputs": [],
   "source": [
    "df2 = df.copy()\n",
    "df2[columns_with_nan] = df2[columns_with_nan].mask(np.random.random(df[columns_with_nan].shape) < 5e-2)"
   ]
  },
  {
   "cell_type": "code",
   "execution_count": null,
   "metadata": {},
   "outputs": [],
   "source": [
    "df2.head()"
   ]
  },
  {
   "cell_type": "code",
   "execution_count": null,
   "metadata": {},
   "outputs": [],
   "source": [
    "customer_columns = ['CustomerID', 'State', 'Area Code', 'Phone']\n",
    "account_columns = ['CustomerID', 'Account Length', \"Int'l Plan\", 'VMail Plan', 'Churn?']\n",
    "utility_columns = ['CustomerID', 'VMail Message', 'Day Mins', 'Day Calls', 'Day Charge', \n",
    "                   'Eve Mins', 'Eve Calls', 'Eve Charge', 'Night Mins', 'Night Calls', \n",
    "                   'Night Charge', 'Intl Mins', 'Intl Calls', 'Intl Charge', 'CustServ Calls']"
   ]
  },
  {
   "cell_type": "code",
   "execution_count": null,
   "metadata": {},
   "outputs": [],
   "source": [
    "databases = wr.catalog.databases()\n",
    "print(databases)\n",
    "db_name = 'telco_db'\n",
    "if db_name not in databases.values:\n",
    "    wr.catalog.create_database(db_name, description = 'Sample DB for telco churn dataset')\n",
    "    print(wr.catalog.databases())\n",
    "else:\n",
    "    print(f\"Database {db_name} already exists\")"
   ]
  },
  {
   "cell_type": "code",
   "execution_count": null,
   "metadata": {},
   "outputs": [],
   "source": [
    "dfs = []\n",
    "suffix = ['customer_info', 'account_info', 'utility']\n",
    "for i, columns in enumerate([customer_columns, account_columns, utility_columns]):\n",
    "    df_tmp = df2[columns]\n",
    "    print(columns)\n",
    "    df_tmp.head()\n",
    "    dfs.append(df_tmp)\n",
    "    fname = 'telco_churn_%s' % suffix[i]\n",
    "    outputpath = f's3://{bucket}/{prefix}/data/{fname}'\n",
    "    print(outputpath)\n",
    "    if i > 1:\n",
    "        wr.s3.to_csv(\n",
    "            df=df_tmp,\n",
    "            path=outputpath,\n",
    "            dataset=True,\n",
    "            database=db_name,  # Athena/Glue database\n",
    "            table=fname,  # Athena/Glue table\n",
    "            index=False,\n",
    "            mode='overwrite')\n",
    "    else:\n",
    "        wr.s3.to_csv(\n",
    "            df=df_tmp,\n",
    "            path=f'{outputpath}.csv',\n",
    "            index=False)"
   ]
  }
 ],
 "metadata": {
  "instance_type": "ml.t3.medium",
  "kernelspec": {
   "display_name": "Python 3 (Data Science)",
   "language": "python",
   "name": "python3__SAGEMAKER_INTERNAL__arn:aws:sagemaker:us-west-2:236514542706:image/datascience-1.0"
  },
  "language_info": {
   "codemirror_mode": {
    "name": "ipython",
    "version": 3
   },
   "file_extension": ".py",
   "mimetype": "text/x-python",
   "name": "python",
   "nbconvert_exporter": "python",
   "pygments_lexer": "ipython3",
   "version": "3.7.10"
  }
 },
 "nbformat": 4,
 "nbformat_minor": 4
}
